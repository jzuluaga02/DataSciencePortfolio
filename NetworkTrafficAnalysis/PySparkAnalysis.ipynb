{
  "cells": [
    {
      "cell_type": "markdown",
      "metadata": {
        "id": "NmCl9_1vfTTz"
      },
      "source": [
        "# Part 1 - Setting up Dependencies"
      ]
    },
    {
      "cell_type": "code",
      "source": [
        "!pip install pyspark"
      ],
      "metadata": {
        "colab": {
          "base_uri": "https://localhost:8080/"
        },
        "id": "bjBzx4sxfrU5",
        "outputId": "59330ba7-311b-420f-f461-46656868434a"
      },
      "execution_count": null,
      "outputs": [
        {
          "output_type": "stream",
          "name": "stdout",
          "text": [
            "Looking in indexes: https://pypi.org/simple, https://us-python.pkg.dev/colab-wheels/public/simple/\n",
            "Collecting pyspark\n",
            "  Downloading pyspark-3.4.0.tar.gz (310.8 MB)\n",
            "\u001b[2K     \u001b[90m━━━━━━━━━━━━━━━━━━━━━━━━━━━━━━━━━━━━━━━\u001b[0m \u001b[32m310.8/310.8 MB\u001b[0m \u001b[31m4.1 MB/s\u001b[0m eta \u001b[36m0:00:00\u001b[0m\n",
            "\u001b[?25h  Preparing metadata (setup.py) ... \u001b[?25l\u001b[?25hdone\n",
            "Requirement already satisfied: py4j==0.10.9.7 in /usr/local/lib/python3.10/dist-packages (from pyspark) (0.10.9.7)\n",
            "Building wheels for collected packages: pyspark\n",
            "  Building wheel for pyspark (setup.py) ... \u001b[?25l\u001b[?25hdone\n",
            "  Created wheel for pyspark: filename=pyspark-3.4.0-py2.py3-none-any.whl size=311317130 sha256=ae367c2afd1cd3561799ea7e0d92f66b0b17a05f189994ae95be15482ffe8ba7\n",
            "  Stored in directory: /root/.cache/pip/wheels/7b/1b/4b/3363a1d04368e7ff0d408e57ff57966fcdf00583774e761327\n",
            "Successfully built pyspark\n",
            "Installing collected packages: pyspark\n",
            "Successfully installed pyspark-3.4.0\n"
          ]
        }
      ]
    },
    {
      "cell_type": "code",
      "execution_count": null,
      "metadata": {
        "collapsed": true,
        "colab": {
          "base_uri": "https://localhost:8080/"
        },
        "id": "aBlSpnlqfTT3",
        "outputId": "641cc9df-5bfc-4501-d201-dacbbe1f0299"
      },
      "outputs": [
        {
          "output_type": "stream",
          "name": "stderr",
          "text": [
            "/usr/local/lib/python3.10/dist-packages/pyspark/sql/context.py:112: FutureWarning: Deprecated in 3.0.0. Use SparkSession.builder.getOrCreate() instead.\n",
            "  warnings.warn(\n"
          ]
        }
      ],
      "source": [
        "from pyspark.context import SparkContext\n",
        "from pyspark.sql.context import SQLContext\n",
        "from pyspark.sql.session import SparkSession\n",
        "    \n",
        "sc = SparkContext()\n",
        "sqlContext = SQLContext(sc)\n",
        "spark = SparkSession(sc)"
      ]
    },
    {
      "cell_type": "code",
      "execution_count": null,
      "metadata": {
        "id": "j-YEvbuEfTT4"
      },
      "outputs": [],
      "source": [
        "import re\n",
        "import pandas as pd"
      ]
    },
    {
      "cell_type": "markdown",
      "metadata": {
        "id": "ExrTfwk9fTT5"
      },
      "source": [
        "## Basic Regular Expressions"
      ]
    },
    {
      "cell_type": "code",
      "execution_count": null,
      "metadata": {
        "colab": {
          "base_uri": "https://localhost:8080/"
        },
        "id": "cD1jMsB3fTT5",
        "outputId": "39f12df4-84d0-4fe9-c5c0-c1ddb532624b"
      },
      "outputs": [
        {
          "output_type": "stream",
          "name": "stdout",
          "text": [
            "<re.Match object; span=(0, 25), match=\"I'm searching for a spark\"> 0 25\n",
            "<re.Match object; span=(25, 36), match=' in PySpark'> 25 36\n"
          ]
        }
      ],
      "source": [
        "m = re.finditer(r'.*?(spark).*?', \"I'm searching for a spark in PySpark\", re.I)\n",
        "for match in m:\n",
        "    print(match, match.start(), match.end())"
      ]
    },
    {
      "cell_type": "markdown",
      "metadata": {
        "id": "DQLR_CIWfTT7"
      },
      "source": [
        "# Part 2 - Loading and Viewing the NASA Log Dataset\n",
        "\n"
      ]
    },
    {
      "cell_type": "code",
      "execution_count": null,
      "metadata": {
        "colab": {
          "base_uri": "https://localhost:8080/"
        },
        "id": "D50tGpfnfTT8",
        "outputId": "5064d0f1-b76b-4fe4-a47e-752b167be822"
      },
      "outputs": [
        {
          "output_type": "execute_result",
          "data": {
            "text/plain": [
              "['NASA_access_log_Jul95.gz']"
            ]
          },
          "metadata": {},
          "execution_count": 5
        }
      ],
      "source": [
        "import glob\n",
        "\n",
        "raw_data_files = glob.glob('*.gz')\n",
        "raw_data_files"
      ]
    },
    {
      "cell_type": "markdown",
      "metadata": {
        "id": "rdChlCjGfTT8"
      },
      "source": [
        "### Taking a look at the metadata of our dataframe"
      ]
    },
    {
      "cell_type": "code",
      "execution_count": null,
      "metadata": {
        "colab": {
          "base_uri": "https://localhost:8080/"
        },
        "id": "0f6WLWlwfTT9",
        "outputId": "b10f4ca5-b64c-4a7d-99af-44d9020fabd7"
      },
      "outputs": [
        {
          "output_type": "stream",
          "name": "stdout",
          "text": [
            "root\n",
            " |-- value: string (nullable = true)\n",
            "\n"
          ]
        }
      ],
      "source": [
        "base_df = spark.read.text(raw_data_files)\n",
        "base_df.printSchema()"
      ]
    },
    {
      "cell_type": "code",
      "execution_count": null,
      "metadata": {
        "colab": {
          "base_uri": "https://localhost:8080/"
        },
        "id": "8RRKndOvfTT-",
        "outputId": "b2626621-e240-4f1e-da45-38e08dea7291"
      },
      "outputs": [
        {
          "output_type": "execute_result",
          "data": {
            "text/plain": [
              "pyspark.sql.dataframe.DataFrame"
            ]
          },
          "metadata": {},
          "execution_count": 7
        }
      ],
      "source": [
        "type(base_df)"
      ]
    },
    {
      "cell_type": "markdown",
      "metadata": {
        "id": "EfaWwnHjfTT-"
      },
      "source": [
        "You can also convert a dataframe to an RDD if needed"
      ]
    },
    {
      "cell_type": "code",
      "execution_count": null,
      "metadata": {
        "colab": {
          "base_uri": "https://localhost:8080/"
        },
        "id": "aBxRnoZOfTT-",
        "outputId": "2709e027-5191-4732-ad73-b3512c463da5"
      },
      "outputs": [
        {
          "output_type": "execute_result",
          "data": {
            "text/plain": [
              "pyspark.rdd.RDD"
            ]
          },
          "metadata": {},
          "execution_count": 8
        }
      ],
      "source": [
        "base_df_rdd = base_df.rdd\n",
        "type(base_df_rdd)"
      ]
    },
    {
      "cell_type": "markdown",
      "metadata": {
        "id": "qL1HeJqffTT_"
      },
      "source": [
        "### Viewing sample data in our dataframe\n",
        "Looks like it needs to be wrangled and parsed!"
      ]
    },
    {
      "cell_type": "code",
      "execution_count": null,
      "metadata": {
        "colab": {
          "base_uri": "https://localhost:8080/"
        },
        "id": "-Vq9jJJPfTT_",
        "outputId": "d892c05c-87e8-426c-abbf-e3faeb976d5b"
      },
      "outputs": [
        {
          "output_type": "stream",
          "name": "stdout",
          "text": [
            "+-----------------------------------------------------------------------------------------------------------------------+\n",
            "|value                                                                                                                  |\n",
            "+-----------------------------------------------------------------------------------------------------------------------+\n",
            "|199.72.81.55 - - [01/Jul/1995:00:00:01 -0400] \"GET /history/apollo/ HTTP/1.0\" 200 6245                                 |\n",
            "|unicomp6.unicomp.net - - [01/Jul/1995:00:00:06 -0400] \"GET /shuttle/countdown/ HTTP/1.0\" 200 3985                      |\n",
            "|199.120.110.21 - - [01/Jul/1995:00:00:09 -0400] \"GET /shuttle/missions/sts-73/mission-sts-73.html HTTP/1.0\" 200 4085   |\n",
            "|burger.letters.com - - [01/Jul/1995:00:00:11 -0400] \"GET /shuttle/countdown/liftoff.html HTTP/1.0\" 304 0               |\n",
            "|199.120.110.21 - - [01/Jul/1995:00:00:11 -0400] \"GET /shuttle/missions/sts-73/sts-73-patch-small.gif HTTP/1.0\" 200 4179|\n",
            "|burger.letters.com - - [01/Jul/1995:00:00:12 -0400] \"GET /images/NASA-logosmall.gif HTTP/1.0\" 304 0                    |\n",
            "|burger.letters.com - - [01/Jul/1995:00:00:12 -0400] \"GET /shuttle/countdown/video/livevideo.gif HTTP/1.0\" 200 0        |\n",
            "|205.212.115.106 - - [01/Jul/1995:00:00:12 -0400] \"GET /shuttle/countdown/countdown.html HTTP/1.0\" 200 3985             |\n",
            "|d104.aa.net - - [01/Jul/1995:00:00:13 -0400] \"GET /shuttle/countdown/ HTTP/1.0\" 200 3985                               |\n",
            "|129.94.144.152 - - [01/Jul/1995:00:00:13 -0400] \"GET / HTTP/1.0\" 200 7074                                              |\n",
            "+-----------------------------------------------------------------------------------------------------------------------+\n",
            "only showing top 10 rows\n",
            "\n"
          ]
        }
      ],
      "source": [
        "base_df.show(10, truncate=False)"
      ]
    },
    {
      "cell_type": "markdown",
      "metadata": {
        "id": "JOOk8MEBfTUA"
      },
      "source": [
        "Getting data from an RDD is slightly different. You can see how the data representation is different in the following RDD"
      ]
    },
    {
      "cell_type": "code",
      "execution_count": null,
      "metadata": {
        "colab": {
          "base_uri": "https://localhost:8080/"
        },
        "id": "Netnm03tfTUA",
        "outputId": "aad072af-73d0-443b-da8f-b0ee602748bf"
      },
      "outputs": [
        {
          "output_type": "execute_result",
          "data": {
            "text/plain": [
              "[Row(value='199.72.81.55 - - [01/Jul/1995:00:00:01 -0400] \"GET /history/apollo/ HTTP/1.0\" 200 6245'),\n",
              " Row(value='unicomp6.unicomp.net - - [01/Jul/1995:00:00:06 -0400] \"GET /shuttle/countdown/ HTTP/1.0\" 200 3985'),\n",
              " Row(value='199.120.110.21 - - [01/Jul/1995:00:00:09 -0400] \"GET /shuttle/missions/sts-73/mission-sts-73.html HTTP/1.0\" 200 4085'),\n",
              " Row(value='burger.letters.com - - [01/Jul/1995:00:00:11 -0400] \"GET /shuttle/countdown/liftoff.html HTTP/1.0\" 304 0'),\n",
              " Row(value='199.120.110.21 - - [01/Jul/1995:00:00:11 -0400] \"GET /shuttle/missions/sts-73/sts-73-patch-small.gif HTTP/1.0\" 200 4179'),\n",
              " Row(value='burger.letters.com - - [01/Jul/1995:00:00:12 -0400] \"GET /images/NASA-logosmall.gif HTTP/1.0\" 304 0'),\n",
              " Row(value='burger.letters.com - - [01/Jul/1995:00:00:12 -0400] \"GET /shuttle/countdown/video/livevideo.gif HTTP/1.0\" 200 0'),\n",
              " Row(value='205.212.115.106 - - [01/Jul/1995:00:00:12 -0400] \"GET /shuttle/countdown/countdown.html HTTP/1.0\" 200 3985'),\n",
              " Row(value='d104.aa.net - - [01/Jul/1995:00:00:13 -0400] \"GET /shuttle/countdown/ HTTP/1.0\" 200 3985'),\n",
              " Row(value='129.94.144.152 - - [01/Jul/1995:00:00:13 -0400] \"GET / HTTP/1.0\" 200 7074')]"
            ]
          },
          "metadata": {},
          "execution_count": 10
        }
      ],
      "source": [
        "base_df_rdd.take(10)"
      ]
    },
    {
      "cell_type": "markdown",
      "metadata": {
        "id": "qjx_-IfPfTUA"
      },
      "source": [
        "# Part 3 - Data Wrangling\n",
        "\n",
        "\n"
      ]
    },
    {
      "cell_type": "markdown",
      "metadata": {
        "id": "8Mp_nSpPfTUB"
      },
      "source": [
        "## Data Parsing and Extraction with Regular Expressions\n"
      ]
    },
    {
      "cell_type": "code",
      "execution_count": null,
      "metadata": {
        "colab": {
          "base_uri": "https://localhost:8080/"
        },
        "id": "Lyvw7b1bfTUC",
        "outputId": "a653b1c8-0dbf-4f96-adec-7041ef32a820"
      },
      "outputs": [
        {
          "output_type": "stream",
          "name": "stdout",
          "text": [
            "(1891715, 1)\n"
          ]
        }
      ],
      "source": [
        "print((base_df.count(), len(base_df.columns)))"
      ]
    },
    {
      "cell_type": "markdown",
      "metadata": {
        "id": "jli3iz9UfTUC"
      },
      "source": [
        "Let's extract and take a look at some sample log messages"
      ]
    },
    {
      "cell_type": "code",
      "execution_count": null,
      "metadata": {
        "colab": {
          "base_uri": "https://localhost:8080/"
        },
        "id": "3jRBD3ZJfTUC",
        "outputId": "a6b0b077-be77-4c98-dccb-72f778043db2"
      },
      "outputs": [
        {
          "output_type": "execute_result",
          "data": {
            "text/plain": [
              "['199.72.81.55 - - [01/Jul/1995:00:00:01 -0400] \"GET /history/apollo/ HTTP/1.0\" 200 6245',\n",
              " 'unicomp6.unicomp.net - - [01/Jul/1995:00:00:06 -0400] \"GET /shuttle/countdown/ HTTP/1.0\" 200 3985',\n",
              " '199.120.110.21 - - [01/Jul/1995:00:00:09 -0400] \"GET /shuttle/missions/sts-73/mission-sts-73.html HTTP/1.0\" 200 4085',\n",
              " 'burger.letters.com - - [01/Jul/1995:00:00:11 -0400] \"GET /shuttle/countdown/liftoff.html HTTP/1.0\" 304 0',\n",
              " '199.120.110.21 - - [01/Jul/1995:00:00:11 -0400] \"GET /shuttle/missions/sts-73/sts-73-patch-small.gif HTTP/1.0\" 200 4179',\n",
              " 'burger.letters.com - - [01/Jul/1995:00:00:12 -0400] \"GET /images/NASA-logosmall.gif HTTP/1.0\" 304 0',\n",
              " 'burger.letters.com - - [01/Jul/1995:00:00:12 -0400] \"GET /shuttle/countdown/video/livevideo.gif HTTP/1.0\" 200 0',\n",
              " '205.212.115.106 - - [01/Jul/1995:00:00:12 -0400] \"GET /shuttle/countdown/countdown.html HTTP/1.0\" 200 3985',\n",
              " 'd104.aa.net - - [01/Jul/1995:00:00:13 -0400] \"GET /shuttle/countdown/ HTTP/1.0\" 200 3985',\n",
              " '129.94.144.152 - - [01/Jul/1995:00:00:13 -0400] \"GET / HTTP/1.0\" 200 7074',\n",
              " 'unicomp6.unicomp.net - - [01/Jul/1995:00:00:14 -0400] \"GET /shuttle/countdown/count.gif HTTP/1.0\" 200 40310',\n",
              " 'unicomp6.unicomp.net - - [01/Jul/1995:00:00:14 -0400] \"GET /images/NASA-logosmall.gif HTTP/1.0\" 200 786',\n",
              " 'unicomp6.unicomp.net - - [01/Jul/1995:00:00:14 -0400] \"GET /images/KSC-logosmall.gif HTTP/1.0\" 200 1204',\n",
              " 'd104.aa.net - - [01/Jul/1995:00:00:15 -0400] \"GET /shuttle/countdown/count.gif HTTP/1.0\" 200 40310',\n",
              " 'd104.aa.net - - [01/Jul/1995:00:00:15 -0400] \"GET /images/NASA-logosmall.gif HTTP/1.0\" 200 786']"
            ]
          },
          "metadata": {},
          "execution_count": 12
        }
      ],
      "source": [
        "sample_logs = [item['value'] for item in base_df.take(15)]\n",
        "sample_logs"
      ]
    },
    {
      "cell_type": "markdown",
      "metadata": {
        "id": "ls9zbgMxfTUD"
      },
      "source": [
        "### Extracting host names\n"
      ]
    },
    {
      "cell_type": "code",
      "execution_count": null,
      "metadata": {
        "colab": {
          "base_uri": "https://localhost:8080/"
        },
        "id": "8I9DguDsfTUD",
        "outputId": "70c4da0c-9bf8-408e-ef25-71643722e619"
      },
      "outputs": [
        {
          "output_type": "execute_result",
          "data": {
            "text/plain": [
              "['199.72.81.55',\n",
              " 'unicomp6.unicomp.net',\n",
              " '199.120.110.21',\n",
              " 'burger.letters.com',\n",
              " '199.120.110.21',\n",
              " 'burger.letters.com',\n",
              " 'burger.letters.com',\n",
              " '205.212.115.106',\n",
              " 'd104.aa.net',\n",
              " '129.94.144.152',\n",
              " 'unicomp6.unicomp.net',\n",
              " 'unicomp6.unicomp.net',\n",
              " 'unicomp6.unicomp.net',\n",
              " 'd104.aa.net',\n",
              " 'd104.aa.net']"
            ]
          },
          "metadata": {},
          "execution_count": 13
        }
      ],
      "source": [
        "host_pattern = r'(^\\S+\\.[\\S+\\.]+\\S+)\\s'\n",
        "hosts = [re.search(host_pattern, item).group(1)\n",
        "           if re.search(host_pattern, item)\n",
        "           else 'no match'\n",
        "           for item in sample_logs]\n",
        "hosts"
      ]
    },
    {
      "cell_type": "markdown",
      "metadata": {
        "id": "k_pQLz9RfTUD"
      },
      "source": [
        "### Extracting timestamps \n",
        "\n",
        "Let's now try and use regular expressions to extract the timestamp fields from the logs"
      ]
    },
    {
      "cell_type": "code",
      "execution_count": null,
      "metadata": {
        "colab": {
          "base_uri": "https://localhost:8080/"
        },
        "id": "0j4mt-Z4fTUE",
        "outputId": "55be8894-da02-4c09-d5db-2f728c11552e"
      },
      "outputs": [
        {
          "output_type": "execute_result",
          "data": {
            "text/plain": [
              "['01/Jul/1995:00:00:01 -0400',\n",
              " '01/Jul/1995:00:00:06 -0400',\n",
              " '01/Jul/1995:00:00:09 -0400',\n",
              " '01/Jul/1995:00:00:11 -0400',\n",
              " '01/Jul/1995:00:00:11 -0400',\n",
              " '01/Jul/1995:00:00:12 -0400',\n",
              " '01/Jul/1995:00:00:12 -0400',\n",
              " '01/Jul/1995:00:00:12 -0400',\n",
              " '01/Jul/1995:00:00:13 -0400',\n",
              " '01/Jul/1995:00:00:13 -0400',\n",
              " '01/Jul/1995:00:00:14 -0400',\n",
              " '01/Jul/1995:00:00:14 -0400',\n",
              " '01/Jul/1995:00:00:14 -0400',\n",
              " '01/Jul/1995:00:00:15 -0400',\n",
              " '01/Jul/1995:00:00:15 -0400']"
            ]
          },
          "metadata": {},
          "execution_count": 14
        }
      ],
      "source": [
        "ts_pattern = r'\\[(\\d{2}/\\w{3}/\\d{4}:\\d{2}:\\d{2}:\\d{2} -\\d{4})]'\n",
        "timestamps = [re.search(ts_pattern, item).group(1) for item in sample_logs]\n",
        "timestamps"
      ]
    },
    {
      "cell_type": "code",
      "execution_count": null,
      "metadata": {
        "colab": {
          "base_uri": "https://localhost:8080/"
        },
        "id": "48KVLsHtfTUE",
        "outputId": "22858be2-fcb2-4328-fd23-e1f74d50ceaa"
      },
      "outputs": [
        {
          "output_type": "execute_result",
          "data": {
            "text/plain": [
              "[('GET', '/history/apollo/', 'HTTP/1.0'),\n",
              " ('GET', '/shuttle/countdown/', 'HTTP/1.0'),\n",
              " ('GET', '/shuttle/missions/sts-73/mission-sts-73.html', 'HTTP/1.0'),\n",
              " ('GET', '/shuttle/countdown/liftoff.html', 'HTTP/1.0'),\n",
              " ('GET', '/shuttle/missions/sts-73/sts-73-patch-small.gif', 'HTTP/1.0'),\n",
              " ('GET', '/images/NASA-logosmall.gif', 'HTTP/1.0'),\n",
              " ('GET', '/shuttle/countdown/video/livevideo.gif', 'HTTP/1.0'),\n",
              " ('GET', '/shuttle/countdown/countdown.html', 'HTTP/1.0'),\n",
              " ('GET', '/shuttle/countdown/', 'HTTP/1.0'),\n",
              " ('GET', '/', 'HTTP/1.0'),\n",
              " ('GET', '/shuttle/countdown/count.gif', 'HTTP/1.0'),\n",
              " ('GET', '/images/NASA-logosmall.gif', 'HTTP/1.0'),\n",
              " ('GET', '/images/KSC-logosmall.gif', 'HTTP/1.0'),\n",
              " ('GET', '/shuttle/countdown/count.gif', 'HTTP/1.0'),\n",
              " ('GET', '/images/NASA-logosmall.gif', 'HTTP/1.0')]"
            ]
          },
          "metadata": {},
          "execution_count": 15
        }
      ],
      "source": [
        "method_uri_protocol_pattern = r'\\\"(\\S+)\\s(\\S+)\\s*(\\S*)\\\"'\n",
        "method_uri_protocol = [re.search(method_uri_protocol_pattern, item).groups()\n",
        "               if re.search(method_uri_protocol_pattern, item)\n",
        "               else 'no match'\n",
        "              for item in sample_logs]\n",
        "method_uri_protocol"
      ]
    },
    {
      "cell_type": "markdown",
      "metadata": {
        "id": "bDnGQwFcfTUF"
      },
      "source": [
        "### Extracting HTTP Status Codes\n",
        "\n"
      ]
    },
    {
      "cell_type": "code",
      "execution_count": null,
      "metadata": {
        "colab": {
          "base_uri": "https://localhost:8080/"
        },
        "id": "uBOnsepVfTUF",
        "outputId": "fd5adc5f-0ab8-4722-f948-6bc3fb55a29e"
      },
      "outputs": [
        {
          "output_type": "stream",
          "name": "stdout",
          "text": [
            "['200', '200', '200', '304', '200', '304', '200', '200', '200', '200', '200', '200', '200', '200', '200']\n"
          ]
        }
      ],
      "source": [
        "status_pattern = r'\\s(\\d{3})\\s'\n",
        "status = [re.search(status_pattern, item).group(1) for item in sample_logs]\n",
        "print(status)"
      ]
    },
    {
      "cell_type": "markdown",
      "metadata": {
        "id": "HbvxWVkQfTUF"
      },
      "source": [
        "### Extracting HTTP Response Content Size\n",
        "\n"
      ]
    },
    {
      "cell_type": "code",
      "execution_count": null,
      "metadata": {
        "colab": {
          "base_uri": "https://localhost:8080/"
        },
        "id": "Tjau_edzfTUG",
        "outputId": "8e8ecd4a-61ff-4589-ee44-477ac98003f8"
      },
      "outputs": [
        {
          "output_type": "stream",
          "name": "stdout",
          "text": [
            "['6245', '3985', '4085', '0', '4179', '0', '0', '3985', '3985', '7074', '40310', '786', '1204', '40310', '786']\n"
          ]
        }
      ],
      "source": [
        "content_size_pattern = r'\\s(\\d+)$'\n",
        "content_size = [re.search(content_size_pattern, item).group(1) for item in sample_logs]\n",
        "print(content_size)"
      ]
    },
    {
      "cell_type": "markdown",
      "metadata": {
        "id": "TczhKGiSfTUG"
      },
      "source": [
        "## Putting it all together \n",
        "\n"
      ]
    },
    {
      "cell_type": "code",
      "execution_count": null,
      "metadata": {
        "colab": {
          "base_uri": "https://localhost:8080/"
        },
        "id": "8qlg0Ud4fTUG",
        "outputId": "4196c19b-72ff-4de5-d3e4-bdc1247ca4ab"
      },
      "outputs": [
        {
          "output_type": "stream",
          "name": "stdout",
          "text": [
            "+--------------------+--------------------+------+--------------------+--------+------+------------+\n",
            "|                host|           timestamp|method|            endpoint|protocol|status|content_size|\n",
            "+--------------------+--------------------+------+--------------------+--------+------+------------+\n",
            "|        199.72.81.55|01/Jul/1995:00:00...|   GET|    /history/apollo/|HTTP/1.0|   200|        6245|\n",
            "|unicomp6.unicomp.net|01/Jul/1995:00:00...|   GET| /shuttle/countdown/|HTTP/1.0|   200|        3985|\n",
            "|      199.120.110.21|01/Jul/1995:00:00...|   GET|/shuttle/missions...|HTTP/1.0|   200|        4085|\n",
            "|  burger.letters.com|01/Jul/1995:00:00...|   GET|/shuttle/countdow...|HTTP/1.0|   304|           0|\n",
            "|      199.120.110.21|01/Jul/1995:00:00...|   GET|/shuttle/missions...|HTTP/1.0|   200|        4179|\n",
            "|  burger.letters.com|01/Jul/1995:00:00...|   GET|/images/NASA-logo...|HTTP/1.0|   304|           0|\n",
            "|  burger.letters.com|01/Jul/1995:00:00...|   GET|/shuttle/countdow...|HTTP/1.0|   200|           0|\n",
            "|     205.212.115.106|01/Jul/1995:00:00...|   GET|/shuttle/countdow...|HTTP/1.0|   200|        3985|\n",
            "|         d104.aa.net|01/Jul/1995:00:00...|   GET| /shuttle/countdown/|HTTP/1.0|   200|        3985|\n",
            "|      129.94.144.152|01/Jul/1995:00:00...|   GET|                   /|HTTP/1.0|   200|        7074|\n",
            "+--------------------+--------------------+------+--------------------+--------+------+------------+\n",
            "only showing top 10 rows\n",
            "\n",
            "(1891715, 7)\n"
          ]
        }
      ],
      "source": [
        "from pyspark.sql.functions import regexp_extract\n",
        "\n",
        "logs_df = base_df.select(regexp_extract('value', host_pattern, 1).alias('host'),\n",
        "                         regexp_extract('value', ts_pattern, 1).alias('timestamp'),\n",
        "                         regexp_extract('value', method_uri_protocol_pattern, 1).alias('method'),\n",
        "                         regexp_extract('value', method_uri_protocol_pattern, 2).alias('endpoint'),\n",
        "                         regexp_extract('value', method_uri_protocol_pattern, 3).alias('protocol'),\n",
        "                         regexp_extract('value', status_pattern, 1).cast('integer').alias('status'),\n",
        "                         regexp_extract('value', content_size_pattern, 1).cast('integer').alias('content_size'))\n",
        "logs_df.show(10, truncate=True)\n",
        "print((logs_df.count(), len(logs_df.columns)))"
      ]
    },
    {
      "cell_type": "markdown",
      "metadata": {
        "id": "AWxPMB19fTUG"
      },
      "source": [
        "## Finding Missing Values\n",
        "\n",
        "Missing and null values are the bane of data analysis and machine learning. Let's see how well our data parsing and extraction logic worked. First, let's verify that there are no null rows in the original dataframe."
      ]
    },
    {
      "cell_type": "code",
      "execution_count": null,
      "metadata": {
        "colab": {
          "base_uri": "https://localhost:8080/"
        },
        "id": "hxnFSJmbfTUQ",
        "outputId": "f86ac12e-60f3-4e6e-e87e-a199b7b9009c"
      },
      "outputs": [
        {
          "output_type": "execute_result",
          "data": {
            "text/plain": [
              "0"
            ]
          },
          "metadata": {},
          "execution_count": 19
        }
      ],
      "source": [
        "(base_df\n",
        "    .filter(base_df['value']\n",
        "                .isNull())\n",
        "    .count())"
      ]
    },
    {
      "cell_type": "markdown",
      "metadata": {
        "id": "Uy4Vx8cufTUR"
      },
      "source": [
        "If our data parsing and extraction worked properly, we should not have any rows with potential null values. Let's try and put that to test!"
      ]
    },
    {
      "cell_type": "code",
      "execution_count": null,
      "metadata": {
        "colab": {
          "base_uri": "https://localhost:8080/"
        },
        "id": "-RLY4uWYfTUR",
        "outputId": "870be0e9-7054-4c72-fb75-ac0985c47d1e"
      },
      "outputs": [
        {
          "output_type": "execute_result",
          "data": {
            "text/plain": [
              "19727"
            ]
          },
          "metadata": {},
          "execution_count": 20
        }
      ],
      "source": [
        "bad_rows_df = logs_df.filter(logs_df['host'].isNull()| \n",
        "                             logs_df['timestamp'].isNull() | \n",
        "                             logs_df['method'].isNull() |\n",
        "                             logs_df['endpoint'].isNull() |\n",
        "                             logs_df['status'].isNull() |\n",
        "                             logs_df['content_size'].isNull()|\n",
        "                             logs_df['protocol'].isNull())\n",
        "bad_rows_df.count()"
      ]
    },
    {
      "cell_type": "code",
      "execution_count": null,
      "metadata": {
        "colab": {
          "base_uri": "https://localhost:8080/"
        },
        "id": "a6GGIIM9fTUS",
        "outputId": "bf7a40cc-64c6-4c84-e82f-b0c8b3e3fb51"
      },
      "outputs": [
        {
          "output_type": "execute_result",
          "data": {
            "text/plain": [
              "['host',\n",
              " 'timestamp',\n",
              " 'method',\n",
              " 'endpoint',\n",
              " 'protocol',\n",
              " 'status',\n",
              " 'content_size']"
            ]
          },
          "metadata": {},
          "execution_count": 21
        }
      ],
      "source": [
        "logs_df.columns"
      ]
    },
    {
      "cell_type": "code",
      "execution_count": null,
      "metadata": {
        "colab": {
          "base_uri": "https://localhost:8080/"
        },
        "id": "r55iXKgcfTUT",
        "outputId": "cd7b8aa4-8945-46db-d279-8f98cc34ac43"
      },
      "outputs": [
        {
          "output_type": "stream",
          "name": "stdout",
          "text": [
            "+----+---------+------+--------+--------+------+------------+\n",
            "|host|timestamp|method|endpoint|protocol|status|content_size|\n",
            "+----+---------+------+--------+--------+------+------------+\n",
            "|   0|        0|     0|       0|       0|     1|       19727|\n",
            "+----+---------+------+--------+--------+------+------------+\n",
            "\n"
          ]
        }
      ],
      "source": [
        "from pyspark.sql.functions import col\n",
        "from pyspark.sql.functions import sum as spark_sum\n",
        "\n",
        "def count_null(col_name):\n",
        "    return spark_sum(col(col_name).isNull().cast('integer')).alias(col_name)\n",
        "\n",
        "# Build up a list of column expressions, one per column.\n",
        "exprs = [count_null(col_name) for col_name in logs_df.columns]\n",
        "\n",
        "# Run the aggregation. The *exprs converts the list of expressions into\n",
        "# variable function arguments.\n",
        "logs_df.agg(*exprs).show()"
      ]
    },
    {
      "cell_type": "markdown",
      "metadata": {
        "id": "AdgYxjRhfTUT"
      },
      "source": [
        "### Handling nulls in HTTP status\n",
        "\n"
      ]
    },
    {
      "cell_type": "code",
      "execution_count": null,
      "metadata": {
        "colab": {
          "base_uri": "https://localhost:8080/"
        },
        "id": "moefcPKefTUU",
        "outputId": "bfcc666d-0d64-491a-911f-4bbfcf640503"
      },
      "outputs": [
        {
          "output_type": "execute_result",
          "data": {
            "text/plain": [
              "1"
            ]
          },
          "metadata": {},
          "execution_count": 23
        }
      ],
      "source": [
        "null_status_df = base_df.filter(~base_df['value'].rlike(r'\\s(\\d{3})\\s'))\n",
        "null_status_df.count()"
      ]
    },
    {
      "cell_type": "code",
      "execution_count": null,
      "metadata": {
        "colab": {
          "base_uri": "https://localhost:8080/"
        },
        "id": "9ArpzZV8fTUU",
        "outputId": "5bd374b2-1e07-4784-85f9-1aa8ba98160c"
      },
      "outputs": [
        {
          "output_type": "stream",
          "name": "stdout",
          "text": [
            "+--------+\n",
            "|value   |\n",
            "+--------+\n",
            "|alyssa.p|\n",
            "+--------+\n",
            "\n"
          ]
        }
      ],
      "source": [
        "null_status_df.show(truncate=False)"
      ]
    },
    {
      "cell_type": "code",
      "execution_count": null,
      "metadata": {
        "colab": {
          "base_uri": "https://localhost:8080/"
        },
        "id": "Wk5knOgIfTUV",
        "outputId": "57744407-92ab-4780-d10d-65ae3bb3f7a4"
      },
      "outputs": [
        {
          "output_type": "stream",
          "name": "stdout",
          "text": [
            "+----+---------+------+--------+--------+------+------------+\n",
            "|host|timestamp|method|endpoint|protocol|status|content_size|\n",
            "+----+---------+------+--------+--------+------+------------+\n",
            "|    |         |      |        |        |null  |null        |\n",
            "+----+---------+------+--------+--------+------+------------+\n",
            "\n"
          ]
        }
      ],
      "source": [
        "bad_status_df = null_status_df.select(regexp_extract('value', host_pattern, 1).alias('host'),\n",
        "                                      regexp_extract('value', ts_pattern, 1).alias('timestamp'),\n",
        "                                      regexp_extract('value', method_uri_protocol_pattern, 1).alias('method'),\n",
        "                                      regexp_extract('value', method_uri_protocol_pattern, 2).alias('endpoint'),\n",
        "                                      regexp_extract('value', method_uri_protocol_pattern, 3).alias('protocol'),\n",
        "                                      regexp_extract('value', status_pattern, 1).cast('integer').alias('status'),\n",
        "                                      regexp_extract('value', content_size_pattern, 1).cast('integer').alias('content_size'))\n",
        "bad_status_df.show(truncate=False)"
      ]
    },
    {
      "cell_type": "markdown",
      "metadata": {
        "id": "vhJ6-hn4fTUV"
      },
      "source": [
        "Looks like the record itself is an incomplete record with no useful information, the best option would be to drop this record as follows!"
      ]
    },
    {
      "cell_type": "code",
      "execution_count": null,
      "metadata": {
        "colab": {
          "base_uri": "https://localhost:8080/"
        },
        "id": "CFyDXq5JfTUV",
        "outputId": "967ed4a4-8183-4324-a643-862cbc62173f"
      },
      "outputs": [
        {
          "output_type": "execute_result",
          "data": {
            "text/plain": [
              "1891715"
            ]
          },
          "metadata": {},
          "execution_count": 26
        }
      ],
      "source": [
        "logs_df.count()"
      ]
    },
    {
      "cell_type": "code",
      "execution_count": null,
      "metadata": {
        "colab": {
          "base_uri": "https://localhost:8080/"
        },
        "id": "qGYSEUNcfTUV",
        "outputId": "b9291ef2-6315-4aaa-a19a-eeff5432e9da"
      },
      "outputs": [
        {
          "output_type": "execute_result",
          "data": {
            "text/plain": [
              "1891714"
            ]
          },
          "metadata": {},
          "execution_count": 27
        }
      ],
      "source": [
        "logs_df = logs_df[logs_df['status'].isNotNull()] \n",
        "logs_df.count()"
      ]
    },
    {
      "cell_type": "code",
      "execution_count": null,
      "metadata": {
        "colab": {
          "base_uri": "https://localhost:8080/"
        },
        "id": "H7nk4v-KfTUW",
        "outputId": "6860626f-fcf4-4adb-c414-29aca5d476e8"
      },
      "outputs": [
        {
          "output_type": "stream",
          "name": "stdout",
          "text": [
            "+----+---------+------+--------+--------+------+------------+\n",
            "|host|timestamp|method|endpoint|protocol|status|content_size|\n",
            "+----+---------+------+--------+--------+------+------------+\n",
            "|   0|        0|     0|       0|       0|     0|       19726|\n",
            "+----+---------+------+--------+--------+------+------------+\n",
            "\n"
          ]
        }
      ],
      "source": [
        "exprs = [count_null(col_name) for col_name in logs_df.columns]\n",
        "logs_df.agg(*exprs).show()"
      ]
    },
    {
      "cell_type": "markdown",
      "metadata": {
        "id": "3fu2vpzufTUX"
      },
      "source": [
        "### Handling nulls in HTTP content size\n",
        "\n",
        "Based on our previous regular expression, our original parsing regular expression for the `content_size` column was:\n",
        "\n",
        "__```\n",
        "regexp_extract('value', r'\\s(\\d+)$', 1).cast('integer').alias('content_size')\n",
        "```__ \n",
        "\n",
        "Could there be missing data in our original dataset itself? Let's try and find out!"
      ]
    },
    {
      "cell_type": "markdown",
      "metadata": {
        "id": "k2nTgSW9fTUX"
      },
      "source": [
        "### Find out the records in our base data frame with potential missing content sizes"
      ]
    },
    {
      "cell_type": "code",
      "execution_count": null,
      "metadata": {
        "colab": {
          "base_uri": "https://localhost:8080/"
        },
        "id": "_0k4QhdefTUY",
        "outputId": "d96cba20-2f50-4d72-8703-ba2bad71e61c"
      },
      "outputs": [
        {
          "output_type": "execute_result",
          "data": {
            "text/plain": [
              "19727"
            ]
          },
          "metadata": {},
          "execution_count": 29
        }
      ],
      "source": [
        "null_content_size_df = base_df.filter(~base_df['value'].rlike(r'\\s\\d+$'))\n",
        "null_content_size_df.count()"
      ]
    },
    {
      "cell_type": "markdown",
      "metadata": {
        "id": "qWEpMk0jfTUY"
      },
      "source": [
        "### Display the top ten records of your data frame having missing content sizes"
      ]
    },
    {
      "cell_type": "code",
      "execution_count": null,
      "metadata": {
        "colab": {
          "base_uri": "https://localhost:8080/"
        },
        "id": "OZh5L-K0fTUZ",
        "outputId": "26252e19-388d-4f99-be7d-5b349ee07ae7"
      },
      "outputs": [
        {
          "output_type": "execute_result",
          "data": {
            "text/plain": [
              "[Row(value='dd15-062.compuserve.com - - [01/Jul/1995:00:01:12 -0400] \"GET /news/sci.space.shuttle/archive/sci-space-shuttle-22-apr-1995-40.txt HTTP/1.0\" 404 -'),\n",
              " Row(value='dynip42.efn.org - - [01/Jul/1995:00:02:14 -0400] \"GET /software HTTP/1.0\" 302 -'),\n",
              " Row(value='ix-or10-06.ix.netcom.com - - [01/Jul/1995:00:02:40 -0400] \"GET /software/winvn HTTP/1.0\" 302 -'),\n",
              " Row(value='ix-or10-06.ix.netcom.com - - [01/Jul/1995:00:03:24 -0400] \"GET /software HTTP/1.0\" 302 -'),\n",
              " Row(value='link097.txdirect.net - - [01/Jul/1995:00:05:06 -0400] \"GET /shuttle HTTP/1.0\" 302 -'),\n",
              " Row(value='ix-war-mi1-20.ix.netcom.com - - [01/Jul/1995:00:05:13 -0400] \"GET /shuttle/missions/sts-78/news HTTP/1.0\" 302 -'),\n",
              " Row(value='ix-war-mi1-20.ix.netcom.com - - [01/Jul/1995:00:05:58 -0400] \"GET /shuttle/missions/sts-72/news HTTP/1.0\" 302 -'),\n",
              " Row(value='netport-27.iu.net - - [01/Jul/1995:00:10:19 -0400] \"GET /pub/winvn/readme.txt HTTP/1.0\" 404 -'),\n",
              " Row(value='netport-27.iu.net - - [01/Jul/1995:00:10:28 -0400] \"GET /pub/winvn/readme.txt HTTP/1.0\" 404 -'),\n",
              " Row(value='dynip38.efn.org - - [01/Jul/1995:00:10:50 -0400] \"GET /software HTTP/1.0\" 302 -')]"
            ]
          },
          "metadata": {},
          "execution_count": 30
        }
      ],
      "source": [
        "null_content_size_df.take(10)"
      ]
    },
    {
      "cell_type": "markdown",
      "metadata": {
        "id": "qrOGgjaUfTUa"
      },
      "source": []
    },
    {
      "cell_type": "code",
      "execution_count": null,
      "metadata": {
        "collapsed": true,
        "id": "x4e9kwSTfTUa"
      },
      "outputs": [],
      "source": [
        "logs_df = logs_df.na.fill({'content_size': 0})"
      ]
    },
    {
      "cell_type": "markdown",
      "metadata": {
        "id": "eNUBQSanfTUb"
      },
      "source": [
        "Now assuming everything we have done so far worked, we should have no missing values \\ nulls in our dataset. Let's verify this!"
      ]
    },
    {
      "cell_type": "code",
      "execution_count": null,
      "metadata": {
        "colab": {
          "base_uri": "https://localhost:8080/"
        },
        "id": "deJ64VPjfTUb",
        "outputId": "0c6b6983-6e23-45b3-9fde-1c025d632fb5"
      },
      "outputs": [
        {
          "output_type": "stream",
          "name": "stdout",
          "text": [
            "+----+---------+------+--------+--------+------+------------+\n",
            "|host|timestamp|method|endpoint|protocol|status|content_size|\n",
            "+----+---------+------+--------+--------+------+------------+\n",
            "|   0|        0|     0|       0|       0|     0|           0|\n",
            "+----+---------+------+--------+--------+------+------------+\n",
            "\n"
          ]
        }
      ],
      "source": [
        "exprs = [count_null(col_name) for col_name in logs_df.columns]\n",
        "logs_df.agg(*exprs).show()"
      ]
    },
    {
      "cell_type": "markdown",
      "metadata": {
        "id": "bkIQqOAWfTUb"
      },
      "source": [
        "Look at that, no missing values! "
      ]
    },
    {
      "cell_type": "markdown",
      "metadata": {
        "id": "f1dXy6offTUb"
      },
      "source": [
        "## Handling Temporal Fields (Timestamp)\n"
      ]
    },
    {
      "cell_type": "code",
      "execution_count": null,
      "metadata": {
        "collapsed": true,
        "id": "RwZYLgfHfTUc"
      },
      "outputs": [],
      "source": [
        "from pyspark.sql.functions import udf\n",
        "\n",
        "month_map = {\n",
        "  'Jan': 1, 'Feb': 2, 'Mar':3, 'Apr':4, 'May':5, 'Jun':6, 'Jul':7,\n",
        "  'Aug':8,  'Sep': 9, 'Oct':10, 'Nov': 11, 'Dec': 12\n",
        "}\n",
        "\n",
        "def parse_clf_time(text):\n",
        "    \"\"\" Convert Common Log time format into a Python datetime object\n",
        "    Args:\n",
        "        text (str): date and time in Apache time format [dd/mmm/yyyy:hh:mm:ss (+/-)zzzz]\n",
        "    Returns:\n",
        "        a string suitable for passing to CAST('timestamp')\n",
        "    \"\"\"\n",
        "    # NOTE: We're ignoring the time zones here, might need to be handled depending on the problem you are solving\n",
        "    return \"{0:04d}-{1:02d}-{2:02d} {3:02d}:{4:02d}:{5:02d}\".format(\n",
        "      int(text[7:11]),\n",
        "      month_map[text[3:6]],\n",
        "      int(text[0:2]),\n",
        "      int(text[12:14]),\n",
        "      int(text[15:17]),\n",
        "      int(text[18:20])\n",
        "    )"
      ]
    },
    {
      "cell_type": "code",
      "execution_count": null,
      "metadata": {
        "colab": {
          "base_uri": "https://localhost:8080/"
        },
        "id": "5XTHZDsFfTUc",
        "outputId": "d6eac92c-de2b-40d7-9de0-3b1aff7b0859"
      },
      "outputs": [
        {
          "output_type": "execute_result",
          "data": {
            "text/plain": [
              "['01/Jul/1995:00:00:01 -0400',\n",
              " '01/Jul/1995:00:00:06 -0400',\n",
              " '01/Jul/1995:00:00:09 -0400',\n",
              " '01/Jul/1995:00:00:11 -0400',\n",
              " '01/Jul/1995:00:00:11 -0400']"
            ]
          },
          "metadata": {},
          "execution_count": 34
        }
      ],
      "source": [
        "sample_ts = [item['timestamp'] for item in logs_df.select('timestamp').take(5)]\n",
        "sample_ts"
      ]
    },
    {
      "cell_type": "code",
      "execution_count": null,
      "metadata": {
        "colab": {
          "base_uri": "https://localhost:8080/"
        },
        "id": "PNcPEB6AfTUd",
        "outputId": "b9e52cd0-dc57-470f-fba3-7e81d504ce80"
      },
      "outputs": [
        {
          "output_type": "execute_result",
          "data": {
            "text/plain": [
              "['1995-07-01 00:00:01',\n",
              " '1995-07-01 00:00:06',\n",
              " '1995-07-01 00:00:09',\n",
              " '1995-07-01 00:00:11',\n",
              " '1995-07-01 00:00:11']"
            ]
          },
          "metadata": {},
          "execution_count": 35
        }
      ],
      "source": [
        "[parse_clf_time(item) for item in sample_ts]"
      ]
    },
    {
      "cell_type": "code",
      "execution_count": null,
      "metadata": {
        "colab": {
          "base_uri": "https://localhost:8080/"
        },
        "id": "UEdWYXSbfTUe",
        "outputId": "54b59966-194d-4c39-9a01-9da64dd6f84b"
      },
      "outputs": [
        {
          "output_type": "stream",
          "name": "stdout",
          "text": [
            "+--------------------+------+--------------------+--------+------+------------+-------------------+\n",
            "|                host|method|            endpoint|protocol|status|content_size|               time|\n",
            "+--------------------+------+--------------------+--------+------+------------+-------------------+\n",
            "|        199.72.81.55|   GET|    /history/apollo/|HTTP/1.0|   200|        6245|1995-07-01 00:00:01|\n",
            "|unicomp6.unicomp.net|   GET| /shuttle/countdown/|HTTP/1.0|   200|        3985|1995-07-01 00:00:06|\n",
            "|      199.120.110.21|   GET|/shuttle/missions...|HTTP/1.0|   200|        4085|1995-07-01 00:00:09|\n",
            "|  burger.letters.com|   GET|/shuttle/countdow...|HTTP/1.0|   304|           0|1995-07-01 00:00:11|\n",
            "|      199.120.110.21|   GET|/shuttle/missions...|HTTP/1.0|   200|        4179|1995-07-01 00:00:11|\n",
            "|  burger.letters.com|   GET|/images/NASA-logo...|HTTP/1.0|   304|           0|1995-07-01 00:00:12|\n",
            "|  burger.letters.com|   GET|/shuttle/countdow...|HTTP/1.0|   200|           0|1995-07-01 00:00:12|\n",
            "|     205.212.115.106|   GET|/shuttle/countdow...|HTTP/1.0|   200|        3985|1995-07-01 00:00:12|\n",
            "|         d104.aa.net|   GET| /shuttle/countdown/|HTTP/1.0|   200|        3985|1995-07-01 00:00:13|\n",
            "|      129.94.144.152|   GET|                   /|HTTP/1.0|   200|        7074|1995-07-01 00:00:13|\n",
            "+--------------------+------+--------------------+--------+------+------------+-------------------+\n",
            "only showing top 10 rows\n",
            "\n"
          ]
        }
      ],
      "source": [
        "udf_parse_time = udf(parse_clf_time)\n",
        "\n",
        "logs_df = logs_df.select('*', udf_parse_time(logs_df['timestamp']).cast('timestamp').alias('time')).drop('timestamp')\n",
        "logs_df.show(10, truncate=True)"
      ]
    },
    {
      "cell_type": "code",
      "execution_count": null,
      "metadata": {
        "colab": {
          "base_uri": "https://localhost:8080/"
        },
        "id": "l4aaKhsFfTUf",
        "outputId": "a11dd177-1cba-412d-a25c-f4dc462dd48c"
      },
      "outputs": [
        {
          "output_type": "stream",
          "name": "stdout",
          "text": [
            "root\n",
            " |-- host: string (nullable = true)\n",
            " |-- method: string (nullable = true)\n",
            " |-- endpoint: string (nullable = true)\n",
            " |-- protocol: string (nullable = true)\n",
            " |-- status: integer (nullable = true)\n",
            " |-- content_size: integer (nullable = false)\n",
            " |-- time: timestamp (nullable = true)\n",
            "\n"
          ]
        }
      ],
      "source": [
        "logs_df.printSchema()"
      ]
    },
    {
      "cell_type": "code",
      "execution_count": null,
      "metadata": {
        "colab": {
          "base_uri": "https://localhost:8080/",
          "height": 261
        },
        "id": "6RzUU8ChfTUf",
        "outputId": "54b20c2d-4cfb-425e-cba8-0d79531db03c"
      },
      "outputs": [
        {
          "output_type": "stream",
          "name": "stderr",
          "text": [
            "/usr/local/lib/python3.10/dist-packages/pyspark/sql/pandas/conversion.py:251: FutureWarning: Passing unit-less datetime64 dtype to .astype is deprecated and will raise in a future version. Pass 'datetime64[ns]' instead\n",
            "  series = series.astype(t, copy=False)\n"
          ]
        },
        {
          "output_type": "execute_result",
          "data": {
            "text/plain": [
              "                   host method  \\\n",
              "0          199.72.81.55    GET   \n",
              "1  unicomp6.unicomp.net    GET   \n",
              "2        199.120.110.21    GET   \n",
              "3    burger.letters.com    GET   \n",
              "4        199.120.110.21    GET   \n",
              "\n",
              "                                          endpoint  protocol  status  \\\n",
              "0                                 /history/apollo/  HTTP/1.0     200   \n",
              "1                              /shuttle/countdown/  HTTP/1.0     200   \n",
              "2     /shuttle/missions/sts-73/mission-sts-73.html  HTTP/1.0     200   \n",
              "3                  /shuttle/countdown/liftoff.html  HTTP/1.0     304   \n",
              "4  /shuttle/missions/sts-73/sts-73-patch-small.gif  HTTP/1.0     200   \n",
              "\n",
              "   content_size                time  \n",
              "0          6245 1995-07-01 00:00:01  \n",
              "1          3985 1995-07-01 00:00:06  \n",
              "2          4085 1995-07-01 00:00:09  \n",
              "3             0 1995-07-01 00:00:11  \n",
              "4          4179 1995-07-01 00:00:11  "
            ],
            "text/html": [
              "\n",
              "  <div id=\"df-39e933fc-35ef-4d9d-a005-477595281953\">\n",
              "    <div class=\"colab-df-container\">\n",
              "      <div>\n",
              "<style scoped>\n",
              "    .dataframe tbody tr th:only-of-type {\n",
              "        vertical-align: middle;\n",
              "    }\n",
              "\n",
              "    .dataframe tbody tr th {\n",
              "        vertical-align: top;\n",
              "    }\n",
              "\n",
              "    .dataframe thead th {\n",
              "        text-align: right;\n",
              "    }\n",
              "</style>\n",
              "<table border=\"1\" class=\"dataframe\">\n",
              "  <thead>\n",
              "    <tr style=\"text-align: right;\">\n",
              "      <th></th>\n",
              "      <th>host</th>\n",
              "      <th>method</th>\n",
              "      <th>endpoint</th>\n",
              "      <th>protocol</th>\n",
              "      <th>status</th>\n",
              "      <th>content_size</th>\n",
              "      <th>time</th>\n",
              "    </tr>\n",
              "  </thead>\n",
              "  <tbody>\n",
              "    <tr>\n",
              "      <th>0</th>\n",
              "      <td>199.72.81.55</td>\n",
              "      <td>GET</td>\n",
              "      <td>/history/apollo/</td>\n",
              "      <td>HTTP/1.0</td>\n",
              "      <td>200</td>\n",
              "      <td>6245</td>\n",
              "      <td>1995-07-01 00:00:01</td>\n",
              "    </tr>\n",
              "    <tr>\n",
              "      <th>1</th>\n",
              "      <td>unicomp6.unicomp.net</td>\n",
              "      <td>GET</td>\n",
              "      <td>/shuttle/countdown/</td>\n",
              "      <td>HTTP/1.0</td>\n",
              "      <td>200</td>\n",
              "      <td>3985</td>\n",
              "      <td>1995-07-01 00:00:06</td>\n",
              "    </tr>\n",
              "    <tr>\n",
              "      <th>2</th>\n",
              "      <td>199.120.110.21</td>\n",
              "      <td>GET</td>\n",
              "      <td>/shuttle/missions/sts-73/mission-sts-73.html</td>\n",
              "      <td>HTTP/1.0</td>\n",
              "      <td>200</td>\n",
              "      <td>4085</td>\n",
              "      <td>1995-07-01 00:00:09</td>\n",
              "    </tr>\n",
              "    <tr>\n",
              "      <th>3</th>\n",
              "      <td>burger.letters.com</td>\n",
              "      <td>GET</td>\n",
              "      <td>/shuttle/countdown/liftoff.html</td>\n",
              "      <td>HTTP/1.0</td>\n",
              "      <td>304</td>\n",
              "      <td>0</td>\n",
              "      <td>1995-07-01 00:00:11</td>\n",
              "    </tr>\n",
              "    <tr>\n",
              "      <th>4</th>\n",
              "      <td>199.120.110.21</td>\n",
              "      <td>GET</td>\n",
              "      <td>/shuttle/missions/sts-73/sts-73-patch-small.gif</td>\n",
              "      <td>HTTP/1.0</td>\n",
              "      <td>200</td>\n",
              "      <td>4179</td>\n",
              "      <td>1995-07-01 00:00:11</td>\n",
              "    </tr>\n",
              "  </tbody>\n",
              "</table>\n",
              "</div>\n",
              "      <button class=\"colab-df-convert\" onclick=\"convertToInteractive('df-39e933fc-35ef-4d9d-a005-477595281953')\"\n",
              "              title=\"Convert this dataframe to an interactive table.\"\n",
              "              style=\"display:none;\">\n",
              "        \n",
              "  <svg xmlns=\"http://www.w3.org/2000/svg\" height=\"24px\"viewBox=\"0 0 24 24\"\n",
              "       width=\"24px\">\n",
              "    <path d=\"M0 0h24v24H0V0z\" fill=\"none\"/>\n",
              "    <path d=\"M18.56 5.44l.94 2.06.94-2.06 2.06-.94-2.06-.94-.94-2.06-.94 2.06-2.06.94zm-11 1L8.5 8.5l.94-2.06 2.06-.94-2.06-.94L8.5 2.5l-.94 2.06-2.06.94zm10 10l.94 2.06.94-2.06 2.06-.94-2.06-.94-.94-2.06-.94 2.06-2.06.94z\"/><path d=\"M17.41 7.96l-1.37-1.37c-.4-.4-.92-.59-1.43-.59-.52 0-1.04.2-1.43.59L10.3 9.45l-7.72 7.72c-.78.78-.78 2.05 0 2.83L4 21.41c.39.39.9.59 1.41.59.51 0 1.02-.2 1.41-.59l7.78-7.78 2.81-2.81c.8-.78.8-2.07 0-2.86zM5.41 20L4 18.59l7.72-7.72 1.47 1.35L5.41 20z\"/>\n",
              "  </svg>\n",
              "      </button>\n",
              "      \n",
              "  <style>\n",
              "    .colab-df-container {\n",
              "      display:flex;\n",
              "      flex-wrap:wrap;\n",
              "      gap: 12px;\n",
              "    }\n",
              "\n",
              "    .colab-df-convert {\n",
              "      background-color: #E8F0FE;\n",
              "      border: none;\n",
              "      border-radius: 50%;\n",
              "      cursor: pointer;\n",
              "      display: none;\n",
              "      fill: #1967D2;\n",
              "      height: 32px;\n",
              "      padding: 0 0 0 0;\n",
              "      width: 32px;\n",
              "    }\n",
              "\n",
              "    .colab-df-convert:hover {\n",
              "      background-color: #E2EBFA;\n",
              "      box-shadow: 0px 1px 2px rgba(60, 64, 67, 0.3), 0px 1px 3px 1px rgba(60, 64, 67, 0.15);\n",
              "      fill: #174EA6;\n",
              "    }\n",
              "\n",
              "    [theme=dark] .colab-df-convert {\n",
              "      background-color: #3B4455;\n",
              "      fill: #D2E3FC;\n",
              "    }\n",
              "\n",
              "    [theme=dark] .colab-df-convert:hover {\n",
              "      background-color: #434B5C;\n",
              "      box-shadow: 0px 1px 3px 1px rgba(0, 0, 0, 0.15);\n",
              "      filter: drop-shadow(0px 1px 2px rgba(0, 0, 0, 0.3));\n",
              "      fill: #FFFFFF;\n",
              "    }\n",
              "  </style>\n",
              "\n",
              "      <script>\n",
              "        const buttonEl =\n",
              "          document.querySelector('#df-39e933fc-35ef-4d9d-a005-477595281953 button.colab-df-convert');\n",
              "        buttonEl.style.display =\n",
              "          google.colab.kernel.accessAllowed ? 'block' : 'none';\n",
              "\n",
              "        async function convertToInteractive(key) {\n",
              "          const element = document.querySelector('#df-39e933fc-35ef-4d9d-a005-477595281953');\n",
              "          const dataTable =\n",
              "            await google.colab.kernel.invokeFunction('convertToInteractive',\n",
              "                                                     [key], {});\n",
              "          if (!dataTable) return;\n",
              "\n",
              "          const docLinkHtml = 'Like what you see? Visit the ' +\n",
              "            '<a target=\"_blank\" href=https://colab.research.google.com/notebooks/data_table.ipynb>data table notebook</a>'\n",
              "            + ' to learn more about interactive tables.';\n",
              "          element.innerHTML = '';\n",
              "          dataTable['output_type'] = 'display_data';\n",
              "          await google.colab.output.renderOutput(dataTable, element);\n",
              "          const docLink = document.createElement('div');\n",
              "          docLink.innerHTML = docLinkHtml;\n",
              "          element.appendChild(docLink);\n",
              "        }\n",
              "      </script>\n",
              "    </div>\n",
              "  </div>\n",
              "  "
            ]
          },
          "metadata": {},
          "execution_count": 38
        }
      ],
      "source": [
        "logs_df.limit(5).toPandas()"
      ]
    },
    {
      "cell_type": "markdown",
      "metadata": {
        "id": "UicFcNY8fTUg"
      },
      "source": [
        "Let's now cache `logs_df` since we will be using it extensively for our data analysis section in the next part!"
      ]
    },
    {
      "cell_type": "code",
      "execution_count": null,
      "metadata": {
        "colab": {
          "base_uri": "https://localhost:8080/"
        },
        "id": "dXMQ2UkTfTUg",
        "outputId": "8acbe2cc-2a77-405d-d5d7-a3ad52a302fa"
      },
      "outputs": [
        {
          "output_type": "execute_result",
          "data": {
            "text/plain": [
              "DataFrame[host: string, method: string, endpoint: string, protocol: string, status: int, content_size: int, time: timestamp]"
            ]
          },
          "metadata": {},
          "execution_count": 39
        }
      ],
      "source": [
        "logs_df.cache()"
      ]
    },
    {
      "cell_type": "markdown",
      "metadata": {
        "id": "2WYkXtjdfTUg"
      },
      "source": [
        "# Part 4 - Data Analysis on our Web Logs\n"
      ]
    },
    {
      "cell_type": "code",
      "execution_count": null,
      "metadata": {
        "colab": {
          "base_uri": "https://localhost:8080/",
          "height": 206
        },
        "id": "wimHUf2tfTUh",
        "outputId": "4d6fc626-be51-4715-cf23-4c0a2ee4d9e5"
      },
      "outputs": [
        {
          "output_type": "execute_result",
          "data": {
            "text/plain": [
              "  summary        content_size\n",
              "0   count             1891714\n",
              "1    mean  20455.509390425825\n",
              "2  stddev    76957.4154501099\n",
              "3     min                   0\n",
              "4     max             6823936"
            ],
            "text/html": [
              "\n",
              "  <div id=\"df-b837533d-4c50-4fe5-9339-fdc9b4900e8e\">\n",
              "    <div class=\"colab-df-container\">\n",
              "      <div>\n",
              "<style scoped>\n",
              "    .dataframe tbody tr th:only-of-type {\n",
              "        vertical-align: middle;\n",
              "    }\n",
              "\n",
              "    .dataframe tbody tr th {\n",
              "        vertical-align: top;\n",
              "    }\n",
              "\n",
              "    .dataframe thead th {\n",
              "        text-align: right;\n",
              "    }\n",
              "</style>\n",
              "<table border=\"1\" class=\"dataframe\">\n",
              "  <thead>\n",
              "    <tr style=\"text-align: right;\">\n",
              "      <th></th>\n",
              "      <th>summary</th>\n",
              "      <th>content_size</th>\n",
              "    </tr>\n",
              "  </thead>\n",
              "  <tbody>\n",
              "    <tr>\n",
              "      <th>0</th>\n",
              "      <td>count</td>\n",
              "      <td>1891714</td>\n",
              "    </tr>\n",
              "    <tr>\n",
              "      <th>1</th>\n",
              "      <td>mean</td>\n",
              "      <td>20455.509390425825</td>\n",
              "    </tr>\n",
              "    <tr>\n",
              "      <th>2</th>\n",
              "      <td>stddev</td>\n",
              "      <td>76957.4154501099</td>\n",
              "    </tr>\n",
              "    <tr>\n",
              "      <th>3</th>\n",
              "      <td>min</td>\n",
              "      <td>0</td>\n",
              "    </tr>\n",
              "    <tr>\n",
              "      <th>4</th>\n",
              "      <td>max</td>\n",
              "      <td>6823936</td>\n",
              "    </tr>\n",
              "  </tbody>\n",
              "</table>\n",
              "</div>\n",
              "      <button class=\"colab-df-convert\" onclick=\"convertToInteractive('df-b837533d-4c50-4fe5-9339-fdc9b4900e8e')\"\n",
              "              title=\"Convert this dataframe to an interactive table.\"\n",
              "              style=\"display:none;\">\n",
              "        \n",
              "  <svg xmlns=\"http://www.w3.org/2000/svg\" height=\"24px\"viewBox=\"0 0 24 24\"\n",
              "       width=\"24px\">\n",
              "    <path d=\"M0 0h24v24H0V0z\" fill=\"none\"/>\n",
              "    <path d=\"M18.56 5.44l.94 2.06.94-2.06 2.06-.94-2.06-.94-.94-2.06-.94 2.06-2.06.94zm-11 1L8.5 8.5l.94-2.06 2.06-.94-2.06-.94L8.5 2.5l-.94 2.06-2.06.94zm10 10l.94 2.06.94-2.06 2.06-.94-2.06-.94-.94-2.06-.94 2.06-2.06.94z\"/><path d=\"M17.41 7.96l-1.37-1.37c-.4-.4-.92-.59-1.43-.59-.52 0-1.04.2-1.43.59L10.3 9.45l-7.72 7.72c-.78.78-.78 2.05 0 2.83L4 21.41c.39.39.9.59 1.41.59.51 0 1.02-.2 1.41-.59l7.78-7.78 2.81-2.81c.8-.78.8-2.07 0-2.86zM5.41 20L4 18.59l7.72-7.72 1.47 1.35L5.41 20z\"/>\n",
              "  </svg>\n",
              "      </button>\n",
              "      \n",
              "  <style>\n",
              "    .colab-df-container {\n",
              "      display:flex;\n",
              "      flex-wrap:wrap;\n",
              "      gap: 12px;\n",
              "    }\n",
              "\n",
              "    .colab-df-convert {\n",
              "      background-color: #E8F0FE;\n",
              "      border: none;\n",
              "      border-radius: 50%;\n",
              "      cursor: pointer;\n",
              "      display: none;\n",
              "      fill: #1967D2;\n",
              "      height: 32px;\n",
              "      padding: 0 0 0 0;\n",
              "      width: 32px;\n",
              "    }\n",
              "\n",
              "    .colab-df-convert:hover {\n",
              "      background-color: #E2EBFA;\n",
              "      box-shadow: 0px 1px 2px rgba(60, 64, 67, 0.3), 0px 1px 3px 1px rgba(60, 64, 67, 0.15);\n",
              "      fill: #174EA6;\n",
              "    }\n",
              "\n",
              "    [theme=dark] .colab-df-convert {\n",
              "      background-color: #3B4455;\n",
              "      fill: #D2E3FC;\n",
              "    }\n",
              "\n",
              "    [theme=dark] .colab-df-convert:hover {\n",
              "      background-color: #434B5C;\n",
              "      box-shadow: 0px 1px 3px 1px rgba(0, 0, 0, 0.15);\n",
              "      filter: drop-shadow(0px 1px 2px rgba(0, 0, 0, 0.3));\n",
              "      fill: #FFFFFF;\n",
              "    }\n",
              "  </style>\n",
              "\n",
              "      <script>\n",
              "        const buttonEl =\n",
              "          document.querySelector('#df-b837533d-4c50-4fe5-9339-fdc9b4900e8e button.colab-df-convert');\n",
              "        buttonEl.style.display =\n",
              "          google.colab.kernel.accessAllowed ? 'block' : 'none';\n",
              "\n",
              "        async function convertToInteractive(key) {\n",
              "          const element = document.querySelector('#df-b837533d-4c50-4fe5-9339-fdc9b4900e8e');\n",
              "          const dataTable =\n",
              "            await google.colab.kernel.invokeFunction('convertToInteractive',\n",
              "                                                     [key], {});\n",
              "          if (!dataTable) return;\n",
              "\n",
              "          const docLinkHtml = 'Like what you see? Visit the ' +\n",
              "            '<a target=\"_blank\" href=https://colab.research.google.com/notebooks/data_table.ipynb>data table notebook</a>'\n",
              "            + ' to learn more about interactive tables.';\n",
              "          element.innerHTML = '';\n",
              "          dataTable['output_type'] = 'display_data';\n",
              "          await google.colab.output.renderOutput(dataTable, element);\n",
              "          const docLink = document.createElement('div');\n",
              "          docLink.innerHTML = docLinkHtml;\n",
              "          element.appendChild(docLink);\n",
              "        }\n",
              "      </script>\n",
              "    </div>\n",
              "  </div>\n",
              "  "
            ]
          },
          "metadata": {},
          "execution_count": 40
        }
      ],
      "source": [
        "content_size_summary_df = logs_df.describe(['content_size'])\n",
        "content_size_summary_df.toPandas()"
      ]
    },
    {
      "cell_type": "markdown",
      "metadata": {
        "id": "Ic9L0sLDfTUh"
      },
      "source": [
        "Alternatively, we can use SQL to directly calculate these statistics.  You can explore many useful functions within the `pyspark.sql.functions` module in the [documentation](https://spark.apache.org/docs/latest/api/python/pyspark.sql.html#module-pyspark.sql.functions).\n",
        "\n",
        "After we apply the `.agg()` function, we call `toPandas()` to extract and convert the result into a `pandas` dataframe which has better formatting on Jupyter notebooks"
      ]
    },
    {
      "cell_type": "code",
      "execution_count": null,
      "metadata": {
        "colab": {
          "base_uri": "https://localhost:8080/",
          "height": 81
        },
        "id": "Z0zTtrWrfTUh",
        "outputId": "1de17956-88af-4e41-9b6d-3c54d7cb4534"
      },
      "outputs": [
        {
          "output_type": "execute_result",
          "data": {
            "text/plain": [
              "   min_content_size  max_content_size  mean_content_size  std_content_size  \\\n",
              "0                 0           6823936        20455.50939       76957.41545   \n",
              "\n",
              "   count_content_size  \n",
              "0             1891714  "
            ],
            "text/html": [
              "\n",
              "  <div id=\"df-cfa2f9ef-2fa4-42c7-8fa3-1dc0184adcaf\">\n",
              "    <div class=\"colab-df-container\">\n",
              "      <div>\n",
              "<style scoped>\n",
              "    .dataframe tbody tr th:only-of-type {\n",
              "        vertical-align: middle;\n",
              "    }\n",
              "\n",
              "    .dataframe tbody tr th {\n",
              "        vertical-align: top;\n",
              "    }\n",
              "\n",
              "    .dataframe thead th {\n",
              "        text-align: right;\n",
              "    }\n",
              "</style>\n",
              "<table border=\"1\" class=\"dataframe\">\n",
              "  <thead>\n",
              "    <tr style=\"text-align: right;\">\n",
              "      <th></th>\n",
              "      <th>min_content_size</th>\n",
              "      <th>max_content_size</th>\n",
              "      <th>mean_content_size</th>\n",
              "      <th>std_content_size</th>\n",
              "      <th>count_content_size</th>\n",
              "    </tr>\n",
              "  </thead>\n",
              "  <tbody>\n",
              "    <tr>\n",
              "      <th>0</th>\n",
              "      <td>0</td>\n",
              "      <td>6823936</td>\n",
              "      <td>20455.50939</td>\n",
              "      <td>76957.41545</td>\n",
              "      <td>1891714</td>\n",
              "    </tr>\n",
              "  </tbody>\n",
              "</table>\n",
              "</div>\n",
              "      <button class=\"colab-df-convert\" onclick=\"convertToInteractive('df-cfa2f9ef-2fa4-42c7-8fa3-1dc0184adcaf')\"\n",
              "              title=\"Convert this dataframe to an interactive table.\"\n",
              "              style=\"display:none;\">\n",
              "        \n",
              "  <svg xmlns=\"http://www.w3.org/2000/svg\" height=\"24px\"viewBox=\"0 0 24 24\"\n",
              "       width=\"24px\">\n",
              "    <path d=\"M0 0h24v24H0V0z\" fill=\"none\"/>\n",
              "    <path d=\"M18.56 5.44l.94 2.06.94-2.06 2.06-.94-2.06-.94-.94-2.06-.94 2.06-2.06.94zm-11 1L8.5 8.5l.94-2.06 2.06-.94-2.06-.94L8.5 2.5l-.94 2.06-2.06.94zm10 10l.94 2.06.94-2.06 2.06-.94-2.06-.94-.94-2.06-.94 2.06-2.06.94z\"/><path d=\"M17.41 7.96l-1.37-1.37c-.4-.4-.92-.59-1.43-.59-.52 0-1.04.2-1.43.59L10.3 9.45l-7.72 7.72c-.78.78-.78 2.05 0 2.83L4 21.41c.39.39.9.59 1.41.59.51 0 1.02-.2 1.41-.59l7.78-7.78 2.81-2.81c.8-.78.8-2.07 0-2.86zM5.41 20L4 18.59l7.72-7.72 1.47 1.35L5.41 20z\"/>\n",
              "  </svg>\n",
              "      </button>\n",
              "      \n",
              "  <style>\n",
              "    .colab-df-container {\n",
              "      display:flex;\n",
              "      flex-wrap:wrap;\n",
              "      gap: 12px;\n",
              "    }\n",
              "\n",
              "    .colab-df-convert {\n",
              "      background-color: #E8F0FE;\n",
              "      border: none;\n",
              "      border-radius: 50%;\n",
              "      cursor: pointer;\n",
              "      display: none;\n",
              "      fill: #1967D2;\n",
              "      height: 32px;\n",
              "      padding: 0 0 0 0;\n",
              "      width: 32px;\n",
              "    }\n",
              "\n",
              "    .colab-df-convert:hover {\n",
              "      background-color: #E2EBFA;\n",
              "      box-shadow: 0px 1px 2px rgba(60, 64, 67, 0.3), 0px 1px 3px 1px rgba(60, 64, 67, 0.15);\n",
              "      fill: #174EA6;\n",
              "    }\n",
              "\n",
              "    [theme=dark] .colab-df-convert {\n",
              "      background-color: #3B4455;\n",
              "      fill: #D2E3FC;\n",
              "    }\n",
              "\n",
              "    [theme=dark] .colab-df-convert:hover {\n",
              "      background-color: #434B5C;\n",
              "      box-shadow: 0px 1px 3px 1px rgba(0, 0, 0, 0.15);\n",
              "      filter: drop-shadow(0px 1px 2px rgba(0, 0, 0, 0.3));\n",
              "      fill: #FFFFFF;\n",
              "    }\n",
              "  </style>\n",
              "\n",
              "      <script>\n",
              "        const buttonEl =\n",
              "          document.querySelector('#df-cfa2f9ef-2fa4-42c7-8fa3-1dc0184adcaf button.colab-df-convert');\n",
              "        buttonEl.style.display =\n",
              "          google.colab.kernel.accessAllowed ? 'block' : 'none';\n",
              "\n",
              "        async function convertToInteractive(key) {\n",
              "          const element = document.querySelector('#df-cfa2f9ef-2fa4-42c7-8fa3-1dc0184adcaf');\n",
              "          const dataTable =\n",
              "            await google.colab.kernel.invokeFunction('convertToInteractive',\n",
              "                                                     [key], {});\n",
              "          if (!dataTable) return;\n",
              "\n",
              "          const docLinkHtml = 'Like what you see? Visit the ' +\n",
              "            '<a target=\"_blank\" href=https://colab.research.google.com/notebooks/data_table.ipynb>data table notebook</a>'\n",
              "            + ' to learn more about interactive tables.';\n",
              "          element.innerHTML = '';\n",
              "          dataTable['output_type'] = 'display_data';\n",
              "          await google.colab.output.renderOutput(dataTable, element);\n",
              "          const docLink = document.createElement('div');\n",
              "          docLink.innerHTML = docLinkHtml;\n",
              "          element.appendChild(docLink);\n",
              "        }\n",
              "      </script>\n",
              "    </div>\n",
              "  </div>\n",
              "  "
            ]
          },
          "metadata": {},
          "execution_count": 41
        }
      ],
      "source": [
        "from pyspark.sql import functions as F\n",
        "\n",
        "(logs_df.agg(F.min(logs_df['content_size']).alias('min_content_size'),\n",
        "             F.max(logs_df['content_size']).alias('max_content_size'),\n",
        "             F.mean(logs_df['content_size']).alias('mean_content_size'),\n",
        "             F.stddev(logs_df['content_size']).alias('std_content_size'),\n",
        "             F.count(logs_df['content_size']).alias('count_content_size'))\n",
        "        .toPandas())"
      ]
    },
    {
      "cell_type": "markdown",
      "metadata": {
        "id": "EMpNvYQ_fTUi"
      },
      "source": [
        "## HTTP Status Code Analysis\n",
        "\n",
        "Next, let's look at the status code values that appear in the log. We want to know which status code values appear in the data and how many times.  \n",
        "\n",
        "We again start with `logs_df`, then group by the `status` column, apply the `.count()` aggregation function, and sort by the `status` column."
      ]
    },
    {
      "cell_type": "code",
      "execution_count": null,
      "metadata": {
        "collapsed": true,
        "id": "A6ywGNoBfTUi"
      },
      "outputs": [],
      "source": [
        "status_freq_df = (logs_df\n",
        "                     .groupBy('status')\n",
        "                     .count()\n",
        "                     .sort('status')\n",
        "                     .cache())"
      ]
    },
    {
      "cell_type": "code",
      "execution_count": null,
      "metadata": {
        "colab": {
          "base_uri": "https://localhost:8080/"
        },
        "id": "_MYKooTcfTUi",
        "outputId": "551d4af3-728f-4481-bf2e-2b49b54f3202"
      },
      "outputs": [
        {
          "output_type": "stream",
          "name": "stdout",
          "text": [
            "Total distinct HTTP Status Codes: 8\n"
          ]
        }
      ],
      "source": [
        "print('Total distinct HTTP Status Codes:', status_freq_df.count())"
      ]
    },
    {
      "cell_type": "code",
      "execution_count": null,
      "metadata": {
        "colab": {
          "base_uri": "https://localhost:8080/",
          "height": 300
        },
        "id": "q_LlIZMVfTUi",
        "outputId": "f5dd0d1a-44f9-44e6-f3b5-b66e4b836e03"
      },
      "outputs": [
        {
          "output_type": "execute_result",
          "data": {
            "text/plain": [
              "   status    count\n",
              "0     200  1701536\n",
              "2     304   132627\n",
              "1     302    46573\n",
              "5     404    10843\n",
              "6     500       62\n",
              "4     403       54\n",
              "7     501       14\n",
              "3     400        5"
            ],
            "text/html": [
              "\n",
              "  <div id=\"df-d981eddf-8fc6-4204-a411-4746107a3ffc\">\n",
              "    <div class=\"colab-df-container\">\n",
              "      <div>\n",
              "<style scoped>\n",
              "    .dataframe tbody tr th:only-of-type {\n",
              "        vertical-align: middle;\n",
              "    }\n",
              "\n",
              "    .dataframe tbody tr th {\n",
              "        vertical-align: top;\n",
              "    }\n",
              "\n",
              "    .dataframe thead th {\n",
              "        text-align: right;\n",
              "    }\n",
              "</style>\n",
              "<table border=\"1\" class=\"dataframe\">\n",
              "  <thead>\n",
              "    <tr style=\"text-align: right;\">\n",
              "      <th></th>\n",
              "      <th>status</th>\n",
              "      <th>count</th>\n",
              "    </tr>\n",
              "  </thead>\n",
              "  <tbody>\n",
              "    <tr>\n",
              "      <th>0</th>\n",
              "      <td>200</td>\n",
              "      <td>1701536</td>\n",
              "    </tr>\n",
              "    <tr>\n",
              "      <th>2</th>\n",
              "      <td>304</td>\n",
              "      <td>132627</td>\n",
              "    </tr>\n",
              "    <tr>\n",
              "      <th>1</th>\n",
              "      <td>302</td>\n",
              "      <td>46573</td>\n",
              "    </tr>\n",
              "    <tr>\n",
              "      <th>5</th>\n",
              "      <td>404</td>\n",
              "      <td>10843</td>\n",
              "    </tr>\n",
              "    <tr>\n",
              "      <th>6</th>\n",
              "      <td>500</td>\n",
              "      <td>62</td>\n",
              "    </tr>\n",
              "    <tr>\n",
              "      <th>4</th>\n",
              "      <td>403</td>\n",
              "      <td>54</td>\n",
              "    </tr>\n",
              "    <tr>\n",
              "      <th>7</th>\n",
              "      <td>501</td>\n",
              "      <td>14</td>\n",
              "    </tr>\n",
              "    <tr>\n",
              "      <th>3</th>\n",
              "      <td>400</td>\n",
              "      <td>5</td>\n",
              "    </tr>\n",
              "  </tbody>\n",
              "</table>\n",
              "</div>\n",
              "      <button class=\"colab-df-convert\" onclick=\"convertToInteractive('df-d981eddf-8fc6-4204-a411-4746107a3ffc')\"\n",
              "              title=\"Convert this dataframe to an interactive table.\"\n",
              "              style=\"display:none;\">\n",
              "        \n",
              "  <svg xmlns=\"http://www.w3.org/2000/svg\" height=\"24px\"viewBox=\"0 0 24 24\"\n",
              "       width=\"24px\">\n",
              "    <path d=\"M0 0h24v24H0V0z\" fill=\"none\"/>\n",
              "    <path d=\"M18.56 5.44l.94 2.06.94-2.06 2.06-.94-2.06-.94-.94-2.06-.94 2.06-2.06.94zm-11 1L8.5 8.5l.94-2.06 2.06-.94-2.06-.94L8.5 2.5l-.94 2.06-2.06.94zm10 10l.94 2.06.94-2.06 2.06-.94-2.06-.94-.94-2.06-.94 2.06-2.06.94z\"/><path d=\"M17.41 7.96l-1.37-1.37c-.4-.4-.92-.59-1.43-.59-.52 0-1.04.2-1.43.59L10.3 9.45l-7.72 7.72c-.78.78-.78 2.05 0 2.83L4 21.41c.39.39.9.59 1.41.59.51 0 1.02-.2 1.41-.59l7.78-7.78 2.81-2.81c.8-.78.8-2.07 0-2.86zM5.41 20L4 18.59l7.72-7.72 1.47 1.35L5.41 20z\"/>\n",
              "  </svg>\n",
              "      </button>\n",
              "      \n",
              "  <style>\n",
              "    .colab-df-container {\n",
              "      display:flex;\n",
              "      flex-wrap:wrap;\n",
              "      gap: 12px;\n",
              "    }\n",
              "\n",
              "    .colab-df-convert {\n",
              "      background-color: #E8F0FE;\n",
              "      border: none;\n",
              "      border-radius: 50%;\n",
              "      cursor: pointer;\n",
              "      display: none;\n",
              "      fill: #1967D2;\n",
              "      height: 32px;\n",
              "      padding: 0 0 0 0;\n",
              "      width: 32px;\n",
              "    }\n",
              "\n",
              "    .colab-df-convert:hover {\n",
              "      background-color: #E2EBFA;\n",
              "      box-shadow: 0px 1px 2px rgba(60, 64, 67, 0.3), 0px 1px 3px 1px rgba(60, 64, 67, 0.15);\n",
              "      fill: #174EA6;\n",
              "    }\n",
              "\n",
              "    [theme=dark] .colab-df-convert {\n",
              "      background-color: #3B4455;\n",
              "      fill: #D2E3FC;\n",
              "    }\n",
              "\n",
              "    [theme=dark] .colab-df-convert:hover {\n",
              "      background-color: #434B5C;\n",
              "      box-shadow: 0px 1px 3px 1px rgba(0, 0, 0, 0.15);\n",
              "      filter: drop-shadow(0px 1px 2px rgba(0, 0, 0, 0.3));\n",
              "      fill: #FFFFFF;\n",
              "    }\n",
              "  </style>\n",
              "\n",
              "      <script>\n",
              "        const buttonEl =\n",
              "          document.querySelector('#df-d981eddf-8fc6-4204-a411-4746107a3ffc button.colab-df-convert');\n",
              "        buttonEl.style.display =\n",
              "          google.colab.kernel.accessAllowed ? 'block' : 'none';\n",
              "\n",
              "        async function convertToInteractive(key) {\n",
              "          const element = document.querySelector('#df-d981eddf-8fc6-4204-a411-4746107a3ffc');\n",
              "          const dataTable =\n",
              "            await google.colab.kernel.invokeFunction('convertToInteractive',\n",
              "                                                     [key], {});\n",
              "          if (!dataTable) return;\n",
              "\n",
              "          const docLinkHtml = 'Like what you see? Visit the ' +\n",
              "            '<a target=\"_blank\" href=https://colab.research.google.com/notebooks/data_table.ipynb>data table notebook</a>'\n",
              "            + ' to learn more about interactive tables.';\n",
              "          element.innerHTML = '';\n",
              "          dataTable['output_type'] = 'display_data';\n",
              "          await google.colab.output.renderOutput(dataTable, element);\n",
              "          const docLink = document.createElement('div');\n",
              "          docLink.innerHTML = docLinkHtml;\n",
              "          element.appendChild(docLink);\n",
              "        }\n",
              "      </script>\n",
              "    </div>\n",
              "  </div>\n",
              "  "
            ]
          },
          "metadata": {},
          "execution_count": 44
        }
      ],
      "source": [
        "status_freq_pd_df = (status_freq_df\n",
        "                         .toPandas()\n",
        "                         .sort_values(by=['count'],\n",
        "                                      ascending=False))\n",
        "status_freq_pd_df"
      ]
    },
    {
      "cell_type": "code",
      "execution_count": null,
      "metadata": {
        "colab": {
          "base_uri": "https://localhost:8080/"
        },
        "id": "hAec9gO0fTUj",
        "outputId": "605319d7-844a-4fcf-bfce-c6de0e76a77b"
      },
      "outputs": [
        {
          "output_type": "stream",
          "name": "stdout",
          "text": [
            "Looking in indexes: https://pypi.org/simple, https://us-python.pkg.dev/colab-wheels/public/simple/\n",
            "Requirement already satisfied: seaborn in /usr/local/lib/python3.10/dist-packages (0.12.2)\n",
            "Requirement already satisfied: numpy!=1.24.0,>=1.17 in /usr/local/lib/python3.10/dist-packages (from seaborn) (1.22.4)\n",
            "Requirement already satisfied: pandas>=0.25 in /usr/local/lib/python3.10/dist-packages (from seaborn) (1.5.3)\n",
            "Requirement already satisfied: matplotlib!=3.6.1,>=3.1 in /usr/local/lib/python3.10/dist-packages (from seaborn) (3.7.1)\n",
            "Requirement already satisfied: contourpy>=1.0.1 in /usr/local/lib/python3.10/dist-packages (from matplotlib!=3.6.1,>=3.1->seaborn) (1.0.7)\n",
            "Requirement already satisfied: cycler>=0.10 in /usr/local/lib/python3.10/dist-packages (from matplotlib!=3.6.1,>=3.1->seaborn) (0.11.0)\n",
            "Requirement already satisfied: fonttools>=4.22.0 in /usr/local/lib/python3.10/dist-packages (from matplotlib!=3.6.1,>=3.1->seaborn) (4.39.3)\n",
            "Requirement already satisfied: kiwisolver>=1.0.1 in /usr/local/lib/python3.10/dist-packages (from matplotlib!=3.6.1,>=3.1->seaborn) (1.4.4)\n",
            "Requirement already satisfied: packaging>=20.0 in /usr/local/lib/python3.10/dist-packages (from matplotlib!=3.6.1,>=3.1->seaborn) (23.1)\n",
            "Requirement already satisfied: pillow>=6.2.0 in /usr/local/lib/python3.10/dist-packages (from matplotlib!=3.6.1,>=3.1->seaborn) (8.4.0)\n",
            "Requirement already satisfied: pyparsing>=2.3.1 in /usr/local/lib/python3.10/dist-packages (from matplotlib!=3.6.1,>=3.1->seaborn) (3.0.9)\n",
            "Requirement already satisfied: python-dateutil>=2.7 in /usr/local/lib/python3.10/dist-packages (from matplotlib!=3.6.1,>=3.1->seaborn) (2.8.2)\n",
            "Requirement already satisfied: pytz>=2020.1 in /usr/local/lib/python3.10/dist-packages (from pandas>=0.25->seaborn) (2022.7.1)\n",
            "Requirement already satisfied: six>=1.5 in /usr/local/lib/python3.10/dist-packages (from python-dateutil>=2.7->matplotlib!=3.6.1,>=3.1->seaborn) (1.16.0)\n"
          ]
        }
      ],
      "source": [
        "!pip install -U seaborn"
      ]
    },
    {
      "cell_type": "code",
      "execution_count": null,
      "metadata": {
        "colab": {
          "base_uri": "https://localhost:8080/",
          "height": 523
        },
        "id": "0Dcyn7sHfTUj",
        "outputId": "e4728a78-c017-4240-df3b-57fbfa3d6852"
      },
      "outputs": [
        {
          "output_type": "execute_result",
          "data": {
            "text/plain": [
              "<seaborn.axisgrid.FacetGrid at 0x7f2faa133370>"
            ]
          },
          "metadata": {},
          "execution_count": 46
        },
        {
          "output_type": "display_data",
          "data": {
            "text/plain": [
              "<Figure size 500x500 with 1 Axes>"
            ],
            "image/png": "[encoded data removed]"
          },
          "metadata": {}
        }
      ],
      "source": [
        "import matplotlib.pyplot as plt\n",
        "import seaborn as sns\n",
        "import numpy as np\n",
        "%matplotlib inline\n",
        "\n",
        "sns.catplot(x='status', y='count', data=status_freq_pd_df, \n",
        "            kind='bar', order=status_freq_pd_df['status'])"
      ]
    },
    {
      "cell_type": "code",
      "execution_count": null,
      "metadata": {
        "colab": {
          "base_uri": "https://localhost:8080/"
        },
        "id": "Mo49oudPfTUk",
        "outputId": "3ced3ead-70dd-470c-cf70-629fc7a37179"
      },
      "outputs": [
        {
          "output_type": "stream",
          "name": "stdout",
          "text": [
            "+------+-------+------------------+\n",
            "|status|  count|        log(count)|\n",
            "+------+-------+------------------+\n",
            "|   200|1701536|14.347041930501213|\n",
            "|   302|  46573| 10.74877625305556|\n",
            "|   304| 132627|11.795295955915682|\n",
            "|   400|      5|1.6094379124341003|\n",
            "|   403|     54|3.9889840465642745|\n",
            "|   404|  10843| 9.291274989472182|\n",
            "|   500|     62| 4.127134385045092|\n",
            "|   501|     14|2.6390573296152584|\n",
            "+------+-------+------------------+\n",
            "\n"
          ]
        }
      ],
      "source": [
        "log_freq_df = status_freq_df.withColumn('log(count)', F.log(status_freq_df['count']))\n",
        "log_freq_df.show()"
      ]
    },
    {
      "cell_type": "code",
      "execution_count": null,
      "metadata": {
        "colab": {
          "base_uri": "https://localhost:8080/",
          "height": 523
        },
        "id": "uEjwHsf-fTUk",
        "outputId": "2e6d9b11-754e-4fca-c20c-7d40d7988e19"
      },
      "outputs": [
        {
          "output_type": "execute_result",
          "data": {
            "text/plain": [
              "<seaborn.axisgrid.FacetGrid at 0x7f2fa9ec4970>"
            ]
          },
          "metadata": {},
          "execution_count": 48
        },
        {
          "output_type": "display_data",
          "data": {
            "text/plain": [
              "<Figure size 500x500 with 1 Axes>"
            ],
            "image/png": "[encoded data removed]"
          },
          "metadata": {}
        }
      ],
      "source": [
        "log_freq_pd_df = (log_freq_df\n",
        "                    .toPandas()\n",
        "                    .sort_values(by=['log(count)'],\n",
        "                                 ascending=False))\n",
        "sns.catplot(x='status', y='log(count)', data=log_freq_pd_df, \n",
        "            kind='bar', order=status_freq_pd_df['status'])"
      ]
    },
    {
      "cell_type": "markdown",
      "metadata": {
        "id": "YqVVbzDFfTUk"
      },
      "source": [
        "## Analyzing Frequent Hosts\n",
        "\n",
        "Let's look at hosts that have accessed the server frequently. We will try to get the count of total accesses by each `host` and then sort by the counts and display only the top ten most frequent hosts."
      ]
    },
    {
      "cell_type": "code",
      "execution_count": null,
      "metadata": {
        "colab": {
          "base_uri": "https://localhost:8080/"
        },
        "id": "9UbMZ1KcfTUl",
        "outputId": "1e619f62-239e-4cb2-ea46-71729ca8313e"
      },
      "outputs": [
        {
          "output_type": "stream",
          "name": "stdout",
          "text": [
            "+--------------------+-----+\n",
            "|host                |count|\n",
            "+--------------------+-----+\n",
            "|piweba3y.prodigy.com|17572|\n",
            "|piweba4y.prodigy.com|11591|\n",
            "|piweba1y.prodigy.com|9868 |\n",
            "|alyssa.prodigy.com  |7852 |\n",
            "|siltb10.orl.mmc.com |7573 |\n",
            "|piweba2y.prodigy.com|5922 |\n",
            "|edams.ksc.nasa.gov  |5434 |\n",
            "|163.206.89.4        |4906 |\n",
            "|news.ti.com         |4863 |\n",
            "|                    |4796 |\n",
            "+--------------------+-----+\n",
            "\n"
          ]
        }
      ],
      "source": [
        "host_sum_df =(logs_df\n",
        "               .groupBy('host')\n",
        "               .count()\n",
        "               .sort('count', ascending=False).limit(10))\n",
        "\n",
        "host_sum_df.show(truncate=False)"
      ]
    },
    {
      "cell_type": "code",
      "execution_count": null,
      "metadata": {
        "colab": {
          "base_uri": "https://localhost:8080/",
          "height": 36
        },
        "id": "mKcfTyUqfTUl",
        "outputId": "ad4642cf-bdb5-4ded-e2ae-e233e3b22bf0"
      },
      "outputs": [
        {
          "output_type": "execute_result",
          "data": {
            "text/plain": [
              "'news.ti.com'"
            ],
            "application/vnd.google.colaboratory.intrinsic+json": {
              "type": "string"
            }
          },
          "metadata": {},
          "execution_count": 50
        }
      ],
      "source": [
        "host_sum_pd_df = host_sum_df.toPandas()\n",
        "host_sum_pd_df.iloc[8]['host']"
      ]
    },
    {
      "cell_type": "markdown",
      "metadata": {
        "id": "kihQ29BefTUl"
      },
      "source": [
        "Looks like we have some empty strings as one of the top host names! This teaches us a valuable lesson to not just check for nulls but also potentially empty strings when data wrangling."
      ]
    },
    {
      "cell_type": "markdown",
      "metadata": {
        "id": "nkdbsgkMfTUp"
      },
      "source": [
        "## Display the Top 20 Frequent EndPoints\n",
        "\n",
        "Now, let's visualize the number of hits to endpoints (URIs) in the log. To perform this task, we start with our `logs_df` and group by the `endpoint` column, aggregate by count, and sort in descending order like the previous question."
      ]
    },
    {
      "cell_type": "code",
      "execution_count": null,
      "metadata": {
        "collapsed": true,
        "id": "ipXwTPVyfTUp"
      },
      "outputs": [],
      "source": [
        "paths_df = (logs_df\n",
        "            .groupBy('endpoint')\n",
        "            .count()\n",
        "            .sort('count', ascending=False).limit(20))"
      ]
    },
    {
      "cell_type": "code",
      "execution_count": null,
      "metadata": {
        "colab": {
          "base_uri": "https://localhost:8080/",
          "height": 677
        },
        "id": "Be2XXnznfTUq",
        "outputId": "5607048d-4aac-4e86-aa8a-d4a087a4f5b7"
      },
      "outputs": [
        {
          "output_type": "execute_result",
          "data": {
            "text/plain": [
              "                                           endpoint   count\n",
              "0                        /images/NASA-logosmall.gif  111330\n",
              "1                         /images/KSC-logosmall.gif   89638\n",
              "2                      /images/MOSAIC-logosmall.gif   60467\n",
              "3                         /images/USA-logosmall.gif   60013\n",
              "4                       /images/WORLD-logosmall.gif   59488\n",
              "5                        /images/ksclogo-medium.gif   58801\n",
              "6                           /images/launch-logo.gif   40871\n",
              "7                               /shuttle/countdown/   40278\n",
              "8                                         /ksc.html   40226\n",
              "9                          /images/ksclogosmall.gif   33585\n",
              "10                                                /   32843\n",
              "11          /history/apollo/images/apollo-logo1.gif   31072\n",
              "12                  /shuttle/missions/missions.html   24864\n",
              "13                               /htbin/cdt_main.pl   22626\n",
              "14                     /shuttle/countdown/count.gif   22216\n",
              "15                  /shuttle/countdown/liftoff.html   22000\n",
              "16                   /shuttle/countdown/count70.gif   20956\n",
              "17                         /images/launchmedium.gif   20812\n",
              "18  /shuttle/missions/sts-71/sts-71-patch-small.gif   19852\n",
              "19  /shuttle/missions/sts-70/sts-70-patch-small.gif   18159"
            ],
            "text/html": [
              "\n",
              "  <div id=\"df-979c5050-077c-4df0-9120-db50c2ac0897\">\n",
              "    <div class=\"colab-df-container\">\n",
              "      <div>\n",
              "<style scoped>\n",
              "    .dataframe tbody tr th:only-of-type {\n",
              "        vertical-align: middle;\n",
              "    }\n",
              "\n",
              "    .dataframe tbody tr th {\n",
              "        vertical-align: top;\n",
              "    }\n",
              "\n",
              "    .dataframe thead th {\n",
              "        text-align: right;\n",
              "    }\n",
              "</style>\n",
              "<table border=\"1\" class=\"dataframe\">\n",
              "  <thead>\n",
              "    <tr style=\"text-align: right;\">\n",
              "      <th></th>\n",
              "      <th>endpoint</th>\n",
              "      <th>count</th>\n",
              "    </tr>\n",
              "  </thead>\n",
              "  <tbody>\n",
              "    <tr>\n",
              "      <th>0</th>\n",
              "      <td>/images/NASA-logosmall.gif</td>\n",
              "      <td>111330</td>\n",
              "    </tr>\n",
              "    <tr>\n",
              "      <th>1</th>\n",
              "      <td>/images/KSC-logosmall.gif</td>\n",
              "      <td>89638</td>\n",
              "    </tr>\n",
              "    <tr>\n",
              "      <th>2</th>\n",
              "      <td>/images/MOSAIC-logosmall.gif</td>\n",
              "      <td>60467</td>\n",
              "    </tr>\n",
              "    <tr>\n",
              "      <th>3</th>\n",
              "      <td>/images/USA-logosmall.gif</td>\n",
              "      <td>60013</td>\n",
              "    </tr>\n",
              "    <tr>\n",
              "      <th>4</th>\n",
              "      <td>/images/WORLD-logosmall.gif</td>\n",
              "      <td>59488</td>\n",
              "    </tr>\n",
              "    <tr>\n",
              "      <th>5</th>\n",
              "      <td>/images/ksclogo-medium.gif</td>\n",
              "      <td>58801</td>\n",
              "    </tr>\n",
              "    <tr>\n",
              "      <th>6</th>\n",
              "      <td>/images/launch-logo.gif</td>\n",
              "      <td>40871</td>\n",
              "    </tr>\n",
              "    <tr>\n",
              "      <th>7</th>\n",
              "      <td>/shuttle/countdown/</td>\n",
              "      <td>40278</td>\n",
              "    </tr>\n",
              "    <tr>\n",
              "      <th>8</th>\n",
              "      <td>/ksc.html</td>\n",
              "      <td>40226</td>\n",
              "    </tr>\n",
              "    <tr>\n",
              "      <th>9</th>\n",
              "      <td>/images/ksclogosmall.gif</td>\n",
              "      <td>33585</td>\n",
              "    </tr>\n",
              "    <tr>\n",
              "      <th>10</th>\n",
              "      <td>/</td>\n",
              "      <td>32843</td>\n",
              "    </tr>\n",
              "    <tr>\n",
              "      <th>11</th>\n",
              "      <td>/history/apollo/images/apollo-logo1.gif</td>\n",
              "      <td>31072</td>\n",
              "    </tr>\n",
              "    <tr>\n",
              "      <th>12</th>\n",
              "      <td>/shuttle/missions/missions.html</td>\n",
              "      <td>24864</td>\n",
              "    </tr>\n",
              "    <tr>\n",
              "      <th>13</th>\n",
              "      <td>/htbin/cdt_main.pl</td>\n",
              "      <td>22626</td>\n",
              "    </tr>\n",
              "    <tr>\n",
              "      <th>14</th>\n",
              "      <td>/shuttle/countdown/count.gif</td>\n",
              "      <td>22216</td>\n",
              "    </tr>\n",
              "    <tr>\n",
              "      <th>15</th>\n",
              "      <td>/shuttle/countdown/liftoff.html</td>\n",
              "      <td>22000</td>\n",
              "    </tr>\n",
              "    <tr>\n",
              "      <th>16</th>\n",
              "      <td>/shuttle/countdown/count70.gif</td>\n",
              "      <td>20956</td>\n",
              "    </tr>\n",
              "    <tr>\n",
              "      <th>17</th>\n",
              "      <td>/images/launchmedium.gif</td>\n",
              "      <td>20812</td>\n",
              "    </tr>\n",
              "    <tr>\n",
              "      <th>18</th>\n",
              "      <td>/shuttle/missions/sts-71/sts-71-patch-small.gif</td>\n",
              "      <td>19852</td>\n",
              "    </tr>\n",
              "    <tr>\n",
              "      <th>19</th>\n",
              "      <td>/shuttle/missions/sts-70/sts-70-patch-small.gif</td>\n",
              "      <td>18159</td>\n",
              "    </tr>\n",
              "  </tbody>\n",
              "</table>\n",
              "</div>\n",
              "      <button class=\"colab-df-convert\" onclick=\"convertToInteractive('df-979c5050-077c-4df0-9120-db50c2ac0897')\"\n",
              "              title=\"Convert this dataframe to an interactive table.\"\n",
              "              style=\"display:none;\">\n",
              "        \n",
              "  <svg xmlns=\"http://www.w3.org/2000/svg\" height=\"24px\"viewBox=\"0 0 24 24\"\n",
              "       width=\"24px\">\n",
              "    <path d=\"M0 0h24v24H0V0z\" fill=\"none\"/>\n",
              "    <path d=\"M18.56 5.44l.94 2.06.94-2.06 2.06-.94-2.06-.94-.94-2.06-.94 2.06-2.06.94zm-11 1L8.5 8.5l.94-2.06 2.06-.94-2.06-.94L8.5 2.5l-.94 2.06-2.06.94zm10 10l.94 2.06.94-2.06 2.06-.94-2.06-.94-.94-2.06-.94 2.06-2.06.94z\"/><path d=\"M17.41 7.96l-1.37-1.37c-.4-.4-.92-.59-1.43-.59-.52 0-1.04.2-1.43.59L10.3 9.45l-7.72 7.72c-.78.78-.78 2.05 0 2.83L4 21.41c.39.39.9.59 1.41.59.51 0 1.02-.2 1.41-.59l7.78-7.78 2.81-2.81c.8-.78.8-2.07 0-2.86zM5.41 20L4 18.59l7.72-7.72 1.47 1.35L5.41 20z\"/>\n",
              "  </svg>\n",
              "      </button>\n",
              "      \n",
              "  <style>\n",
              "    .colab-df-container {\n",
              "      display:flex;\n",
              "      flex-wrap:wrap;\n",
              "      gap: 12px;\n",
              "    }\n",
              "\n",
              "    .colab-df-convert {\n",
              "      background-color: #E8F0FE;\n",
              "      border: none;\n",
              "      border-radius: 50%;\n",
              "      cursor: pointer;\n",
              "      display: none;\n",
              "      fill: #1967D2;\n",
              "      height: 32px;\n",
              "      padding: 0 0 0 0;\n",
              "      width: 32px;\n",
              "    }\n",
              "\n",
              "    .colab-df-convert:hover {\n",
              "      background-color: #E2EBFA;\n",
              "      box-shadow: 0px 1px 2px rgba(60, 64, 67, 0.3), 0px 1px 3px 1px rgba(60, 64, 67, 0.15);\n",
              "      fill: #174EA6;\n",
              "    }\n",
              "\n",
              "    [theme=dark] .colab-df-convert {\n",
              "      background-color: #3B4455;\n",
              "      fill: #D2E3FC;\n",
              "    }\n",
              "\n",
              "    [theme=dark] .colab-df-convert:hover {\n",
              "      background-color: #434B5C;\n",
              "      box-shadow: 0px 1px 3px 1px rgba(0, 0, 0, 0.15);\n",
              "      filter: drop-shadow(0px 1px 2px rgba(0, 0, 0, 0.3));\n",
              "      fill: #FFFFFF;\n",
              "    }\n",
              "  </style>\n",
              "\n",
              "      <script>\n",
              "        const buttonEl =\n",
              "          document.querySelector('#df-979c5050-077c-4df0-9120-db50c2ac0897 button.colab-df-convert');\n",
              "        buttonEl.style.display =\n",
              "          google.colab.kernel.accessAllowed ? 'block' : 'none';\n",
              "\n",
              "        async function convertToInteractive(key) {\n",
              "          const element = document.querySelector('#df-979c5050-077c-4df0-9120-db50c2ac0897');\n",
              "          const dataTable =\n",
              "            await google.colab.kernel.invokeFunction('convertToInteractive',\n",
              "                                                     [key], {});\n",
              "          if (!dataTable) return;\n",
              "\n",
              "          const docLinkHtml = 'Like what you see? Visit the ' +\n",
              "            '<a target=\"_blank\" href=https://colab.research.google.com/notebooks/data_table.ipynb>data table notebook</a>'\n",
              "            + ' to learn more about interactive tables.';\n",
              "          element.innerHTML = '';\n",
              "          dataTable['output_type'] = 'display_data';\n",
              "          await google.colab.output.renderOutput(dataTable, element);\n",
              "          const docLink = document.createElement('div');\n",
              "          docLink.innerHTML = docLinkHtml;\n",
              "          element.appendChild(docLink);\n",
              "        }\n",
              "      </script>\n",
              "    </div>\n",
              "  </div>\n",
              "  "
            ]
          },
          "metadata": {},
          "execution_count": 53
        }
      ],
      "source": [
        "paths_pd_df = paths_df.toPandas()\n",
        "paths_pd_df"
      ]
    },
    {
      "cell_type": "markdown",
      "metadata": {
        "id": "BAXZS2HyfTUq"
      },
      "source": [
        "## Top Ten Error Endpoints\n",
        "\n",
        "What are the top ten endpoints requested which did not have return code 200 (HTTP Status OK)? \n",
        "\n",
        "We create a sorted list containing the endpoints and the number of times that they were accessed with a non-200 return code and show the top ten."
      ]
    },
    {
      "cell_type": "code",
      "execution_count": null,
      "metadata": {
        "collapsed": true,
        "id": "SYHj1rx_fTUq"
      },
      "outputs": [],
      "source": [
        "not200_df = (logs_df\n",
        "               .filter(logs_df['status'] != 200))\n",
        "\n",
        "error_endpoints_freq_df = (not200_df\n",
        "                               .groupBy('endpoint')\n",
        "                               .count()\n",
        "                               .sort('count', ascending=False)\n",
        "                               .limit(10)\n",
        "                          )"
      ]
    },
    {
      "cell_type": "code",
      "execution_count": null,
      "metadata": {
        "colab": {
          "base_uri": "https://localhost:8080/"
        },
        "id": "l564IR8gfTUq",
        "outputId": "21b6a51e-e633-45f8-c659-d10191c82947"
      },
      "outputs": [
        {
          "output_type": "stream",
          "name": "stdout",
          "text": [
            "+--------------------------------------+-----+\n",
            "|endpoint                              |count|\n",
            "+--------------------------------------+-----+\n",
            "|/images/NASA-logosmall.gif            |21010|\n",
            "|/images/KSC-logosmall.gif             |12435|\n",
            "|/images/MOSAIC-logosmall.gif          |6628 |\n",
            "|/images/USA-logosmall.gif             |6577 |\n",
            "|/images/WORLD-logosmall.gif           |6413 |\n",
            "|/images/ksclogo-medium.gif            |5837 |\n",
            "|/images/launch-logo.gif               |4628 |\n",
            "|/shuttle/countdown/liftoff.html       |3509 |\n",
            "|/shuttle/countdown/                   |3345 |\n",
            "|/shuttle/countdown/images/cdtclock.gif|3251 |\n",
            "+--------------------------------------+-----+\n",
            "\n"
          ]
        }
      ],
      "source": [
        "error_endpoints_freq_df.show(truncate=False)"
      ]
    },
    {
      "cell_type": "markdown",
      "metadata": {
        "id": "-JF04ci1fTUq"
      },
      "source": [
        "## Total number of Unique Hosts\n",
        "\n",
        "What were the total number of unique hosts who visited the NASA website in these two months? We can find this out with a few transformations."
      ]
    },
    {
      "cell_type": "code",
      "execution_count": null,
      "metadata": {
        "colab": {
          "base_uri": "https://localhost:8080/"
        },
        "id": "nOuMA37efTUq",
        "outputId": "e78fd7a2-fdc1-4b4e-d8bf-f259b3cbbbb1"
      },
      "outputs": [
        {
          "output_type": "execute_result",
          "data": {
            "text/plain": [
              "81961"
            ]
          },
          "metadata": {},
          "execution_count": 56
        }
      ],
      "source": [
        "unique_host_count = (logs_df\n",
        "                     .select('host')\n",
        "                     .distinct()\n",
        "                     .count())\n",
        "unique_host_count"
      ]
    },
    {
      "cell_type": "markdown",
      "metadata": {
        "id": "EFA8lvnlfTUr"
      },
      "source": [
        "## Number of Unique Daily Hosts\n"
      ]
    },
    {
      "cell_type": "code",
      "execution_count": null,
      "metadata": {
        "colab": {
          "base_uri": "https://localhost:8080/"
        },
        "id": "V2rEeqVLfTUr",
        "outputId": "a267ac13-6910-454f-b4e6-c875f7abbe94"
      },
      "outputs": [
        {
          "output_type": "stream",
          "name": "stdout",
          "text": [
            "+--------------------+---+\n",
            "|host                |day|\n",
            "+--------------------+---+\n",
            "|199.72.81.55        |1  |\n",
            "|unicomp6.unicomp.net|1  |\n",
            "|199.120.110.21      |1  |\n",
            "|burger.letters.com  |1  |\n",
            "|199.120.110.21      |1  |\n",
            "+--------------------+---+\n",
            "only showing top 5 rows\n",
            "\n"
          ]
        }
      ],
      "source": [
        "host_day_df = logs_df.select(logs_df.host, \n",
        "                             F.dayofmonth('time').alias('day'))\n",
        "host_day_df.show(5, truncate=False)"
      ]
    },
    {
      "cell_type": "markdown",
      "metadata": {
        "id": "YK4jGhKZfTUr"
      },
      "source": [
        "**`host_day_distinct_df`**\n",
        "\n",
        "This DataFrame has the same columns as `host_day_df`, but with duplicate (`day`, `host`) rows removed."
      ]
    },
    {
      "cell_type": "code",
      "execution_count": null,
      "metadata": {
        "colab": {
          "base_uri": "https://localhost:8080/"
        },
        "id": "tB02KPKwfTUr",
        "outputId": "6eaee74e-0d92-4ead-d1f3-43f43db53495"
      },
      "outputs": [
        {
          "output_type": "stream",
          "name": "stdout",
          "text": [
            "+-----------------------+---+\n",
            "|host                   |day|\n",
            "+-----------------------+---+\n",
            "|129.94.144.152         |1  |\n",
            "|slip1.yab.com          |1  |\n",
            "|205.184.190.47         |1  |\n",
            "|204.120.34.71          |1  |\n",
            "|ppp3_130.bekkoame.or.jp|1  |\n",
            "+-----------------------+---+\n",
            "only showing top 5 rows\n",
            "\n"
          ]
        }
      ],
      "source": [
        "host_day_distinct_df = (host_day_df\n",
        "                          .dropDuplicates())\n",
        "host_day_distinct_df.show(5, truncate=False)"
      ]
    },
    {
      "cell_type": "code",
      "execution_count": null,
      "metadata": {
        "colab": {
          "base_uri": "https://localhost:8080/",
          "height": 927
        },
        "id": "u8TG0RcofTUs",
        "outputId": "afb75177-7cc1-454e-a492-7406366b5285"
      },
      "outputs": [
        {
          "output_type": "execute_result",
          "data": {
            "text/plain": [
              "    day  count\n",
              "0     1   5191\n",
              "1     2   4858\n",
              "2     3   7332\n",
              "3     4   5523\n",
              "4     5   7379\n",
              "5     6   7815\n",
              "6     7   6471\n",
              "7     8   2898\n",
              "8     9   2554\n",
              "9    10   4460\n",
              "10   11   4923\n",
              "11   12   5339\n",
              "12   13   6946\n",
              "13   14   5292\n",
              "14   15   3115\n",
              "15   16   3013\n",
              "16   17   4941\n",
              "17   18   4518\n",
              "18   19   4913\n",
              "19   20   4725\n",
              "20   21   4337\n",
              "21   22   2575\n",
              "22   23   2634\n",
              "23   24   4294\n",
              "24   25   4373\n",
              "25   26   4295\n",
              "26   27   4367\n",
              "27   28   2173"
            ],
            "text/html": [
              "\n",
              "  <div id=\"df-92fe46cf-2290-496f-b00a-d193dae81d19\">\n",
              "    <div class=\"colab-df-container\">\n",
              "      <div>\n",
              "<style scoped>\n",
              "    .dataframe tbody tr th:only-of-type {\n",
              "        vertical-align: middle;\n",
              "    }\n",
              "\n",
              "    .dataframe tbody tr th {\n",
              "        vertical-align: top;\n",
              "    }\n",
              "\n",
              "    .dataframe thead th {\n",
              "        text-align: right;\n",
              "    }\n",
              "</style>\n",
              "<table border=\"1\" class=\"dataframe\">\n",
              "  <thead>\n",
              "    <tr style=\"text-align: right;\">\n",
              "      <th></th>\n",
              "      <th>day</th>\n",
              "      <th>count</th>\n",
              "    </tr>\n",
              "  </thead>\n",
              "  <tbody>\n",
              "    <tr>\n",
              "      <th>0</th>\n",
              "      <td>1</td>\n",
              "      <td>5191</td>\n",
              "    </tr>\n",
              "    <tr>\n",
              "      <th>1</th>\n",
              "      <td>2</td>\n",
              "      <td>4858</td>\n",
              "    </tr>\n",
              "    <tr>\n",
              "      <th>2</th>\n",
              "      <td>3</td>\n",
              "      <td>7332</td>\n",
              "    </tr>\n",
              "    <tr>\n",
              "      <th>3</th>\n",
              "      <td>4</td>\n",
              "      <td>5523</td>\n",
              "    </tr>\n",
              "    <tr>\n",
              "      <th>4</th>\n",
              "      <td>5</td>\n",
              "      <td>7379</td>\n",
              "    </tr>\n",
              "    <tr>\n",
              "      <th>5</th>\n",
              "      <td>6</td>\n",
              "      <td>7815</td>\n",
              "    </tr>\n",
              "    <tr>\n",
              "      <th>6</th>\n",
              "      <td>7</td>\n",
              "      <td>6471</td>\n",
              "    </tr>\n",
              "    <tr>\n",
              "      <th>7</th>\n",
              "      <td>8</td>\n",
              "      <td>2898</td>\n",
              "    </tr>\n",
              "    <tr>\n",
              "      <th>8</th>\n",
              "      <td>9</td>\n",
              "      <td>2554</td>\n",
              "    </tr>\n",
              "    <tr>\n",
              "      <th>9</th>\n",
              "      <td>10</td>\n",
              "      <td>4460</td>\n",
              "    </tr>\n",
              "    <tr>\n",
              "      <th>10</th>\n",
              "      <td>11</td>\n",
              "      <td>4923</td>\n",
              "    </tr>\n",
              "    <tr>\n",
              "      <th>11</th>\n",
              "      <td>12</td>\n",
              "      <td>5339</td>\n",
              "    </tr>\n",
              "    <tr>\n",
              "      <th>12</th>\n",
              "      <td>13</td>\n",
              "      <td>6946</td>\n",
              "    </tr>\n",
              "    <tr>\n",
              "      <th>13</th>\n",
              "      <td>14</td>\n",
              "      <td>5292</td>\n",
              "    </tr>\n",
              "    <tr>\n",
              "      <th>14</th>\n",
              "      <td>15</td>\n",
              "      <td>3115</td>\n",
              "    </tr>\n",
              "    <tr>\n",
              "      <th>15</th>\n",
              "      <td>16</td>\n",
              "      <td>3013</td>\n",
              "    </tr>\n",
              "    <tr>\n",
              "      <th>16</th>\n",
              "      <td>17</td>\n",
              "      <td>4941</td>\n",
              "    </tr>\n",
              "    <tr>\n",
              "      <th>17</th>\n",
              "      <td>18</td>\n",
              "      <td>4518</td>\n",
              "    </tr>\n",
              "    <tr>\n",
              "      <th>18</th>\n",
              "      <td>19</td>\n",
              "      <td>4913</td>\n",
              "    </tr>\n",
              "    <tr>\n",
              "      <th>19</th>\n",
              "      <td>20</td>\n",
              "      <td>4725</td>\n",
              "    </tr>\n",
              "    <tr>\n",
              "      <th>20</th>\n",
              "      <td>21</td>\n",
              "      <td>4337</td>\n",
              "    </tr>\n",
              "    <tr>\n",
              "      <th>21</th>\n",
              "      <td>22</td>\n",
              "      <td>2575</td>\n",
              "    </tr>\n",
              "    <tr>\n",
              "      <th>22</th>\n",
              "      <td>23</td>\n",
              "      <td>2634</td>\n",
              "    </tr>\n",
              "    <tr>\n",
              "      <th>23</th>\n",
              "      <td>24</td>\n",
              "      <td>4294</td>\n",
              "    </tr>\n",
              "    <tr>\n",
              "      <th>24</th>\n",
              "      <td>25</td>\n",
              "      <td>4373</td>\n",
              "    </tr>\n",
              "    <tr>\n",
              "      <th>25</th>\n",
              "      <td>26</td>\n",
              "      <td>4295</td>\n",
              "    </tr>\n",
              "    <tr>\n",
              "      <th>26</th>\n",
              "      <td>27</td>\n",
              "      <td>4367</td>\n",
              "    </tr>\n",
              "    <tr>\n",
              "      <th>27</th>\n",
              "      <td>28</td>\n",
              "      <td>2173</td>\n",
              "    </tr>\n",
              "  </tbody>\n",
              "</table>\n",
              "</div>\n",
              "      <button class=\"colab-df-convert\" onclick=\"convertToInteractive('df-92fe46cf-2290-496f-b00a-d193dae81d19')\"\n",
              "              title=\"Convert this dataframe to an interactive table.\"\n",
              "              style=\"display:none;\">\n",
              "        \n",
              "  <svg xmlns=\"http://www.w3.org/2000/svg\" height=\"24px\"viewBox=\"0 0 24 24\"\n",
              "       width=\"24px\">\n",
              "    <path d=\"M0 0h24v24H0V0z\" fill=\"none\"/>\n",
              "    <path d=\"M18.56 5.44l.94 2.06.94-2.06 2.06-.94-2.06-.94-.94-2.06-.94 2.06-2.06.94zm-11 1L8.5 8.5l.94-2.06 2.06-.94-2.06-.94L8.5 2.5l-.94 2.06-2.06.94zm10 10l.94 2.06.94-2.06 2.06-.94-2.06-.94-.94-2.06-.94 2.06-2.06.94z\"/><path d=\"M17.41 7.96l-1.37-1.37c-.4-.4-.92-.59-1.43-.59-.52 0-1.04.2-1.43.59L10.3 9.45l-7.72 7.72c-.78.78-.78 2.05 0 2.83L4 21.41c.39.39.9.59 1.41.59.51 0 1.02-.2 1.41-.59l7.78-7.78 2.81-2.81c.8-.78.8-2.07 0-2.86zM5.41 20L4 18.59l7.72-7.72 1.47 1.35L5.41 20z\"/>\n",
              "  </svg>\n",
              "      </button>\n",
              "      \n",
              "  <style>\n",
              "    .colab-df-container {\n",
              "      display:flex;\n",
              "      flex-wrap:wrap;\n",
              "      gap: 12px;\n",
              "    }\n",
              "\n",
              "    .colab-df-convert {\n",
              "      background-color: #E8F0FE;\n",
              "      border: none;\n",
              "      border-radius: 50%;\n",
              "      cursor: pointer;\n",
              "      display: none;\n",
              "      fill: #1967D2;\n",
              "      height: 32px;\n",
              "      padding: 0 0 0 0;\n",
              "      width: 32px;\n",
              "    }\n",
              "\n",
              "    .colab-df-convert:hover {\n",
              "      background-color: #E2EBFA;\n",
              "      box-shadow: 0px 1px 2px rgba(60, 64, 67, 0.3), 0px 1px 3px 1px rgba(60, 64, 67, 0.15);\n",
              "      fill: #174EA6;\n",
              "    }\n",
              "\n",
              "    [theme=dark] .colab-df-convert {\n",
              "      background-color: #3B4455;\n",
              "      fill: #D2E3FC;\n",
              "    }\n",
              "\n",
              "    [theme=dark] .colab-df-convert:hover {\n",
              "      background-color: #434B5C;\n",
              "      box-shadow: 0px 1px 3px 1px rgba(0, 0, 0, 0.15);\n",
              "      filter: drop-shadow(0px 1px 2px rgba(0, 0, 0, 0.3));\n",
              "      fill: #FFFFFF;\n",
              "    }\n",
              "  </style>\n",
              "\n",
              "      <script>\n",
              "        const buttonEl =\n",
              "          document.querySelector('#df-92fe46cf-2290-496f-b00a-d193dae81d19 button.colab-df-convert');\n",
              "        buttonEl.style.display =\n",
              "          google.colab.kernel.accessAllowed ? 'block' : 'none';\n",
              "\n",
              "        async function convertToInteractive(key) {\n",
              "          const element = document.querySelector('#df-92fe46cf-2290-496f-b00a-d193dae81d19');\n",
              "          const dataTable =\n",
              "            await google.colab.kernel.invokeFunction('convertToInteractive',\n",
              "                                                     [key], {});\n",
              "          if (!dataTable) return;\n",
              "\n",
              "          const docLinkHtml = 'Like what you see? Visit the ' +\n",
              "            '<a target=\"_blank\" href=https://colab.research.google.com/notebooks/data_table.ipynb>data table notebook</a>'\n",
              "            + ' to learn more about interactive tables.';\n",
              "          element.innerHTML = '';\n",
              "          dataTable['output_type'] = 'display_data';\n",
              "          await google.colab.output.renderOutput(dataTable, element);\n",
              "          const docLink = document.createElement('div');\n",
              "          docLink.innerHTML = docLinkHtml;\n",
              "          element.appendChild(docLink);\n",
              "        }\n",
              "      </script>\n",
              "    </div>\n",
              "  </div>\n",
              "  "
            ]
          },
          "metadata": {},
          "execution_count": 62
        }
      ],
      "source": [
        "def_mr = pd.get_option('max_rows')\n",
        "pd.set_option('max_rows', 10)\n",
        "\n",
        "daily_hosts_df = (host_day_distinct_df\n",
        "                     .groupBy('day')\n",
        "                     .count()\n",
        "                     .sort(\"day\"))\n",
        "\n",
        "daily_hosts_df = daily_hosts_df.toPandas()\n",
        "daily_hosts_df"
      ]
    },
    {
      "cell_type": "code",
      "execution_count": null,
      "metadata": {
        "colab": {
          "base_uri": "https://localhost:8080/",
          "height": 506
        },
        "id": "WpcpV4lQfTUs",
        "outputId": "5db505ec-3f97-4023-dbf8-7fe0eef425b4"
      },
      "outputs": [
        {
          "output_type": "display_data",
          "data": {
            "text/plain": [
              "<Figure size 750x500 with 1 Axes>"
            ],
            "image/png": "[encoded data removed]"
          },
          "metadata": {}
        }
      ],
      "source": [
        "c = sns.catplot(x='day', y='count', \n",
        "                data=daily_hosts_df, \n",
        "                kind='point', height=5, \n",
        "                aspect=1.5)"
      ]
    },
    {
      "cell_type": "markdown",
      "metadata": {
        "id": "C28dGelWfTUs"
      },
      "source": [
        "## Average Number of Daily Requests per Host\n",
        "\n",
        "In the previous example, we looked at a way to determine the number of unique hosts in the entire log on a day-by-day basis. Let's now try and find the average number of requests being made per Host to the NASA website per day based on our logs. \n",
        "\n",
        "We'd like a DataFrame sorted by increasing day of the month which includes the day of the month and the associated number of average requests made for that day per Host. "
      ]
    },
    {
      "cell_type": "code",
      "execution_count": null,
      "metadata": {
        "colab": {
          "base_uri": "https://localhost:8080/",
          "height": 927
        },
        "id": "M_TrvMUOfTUs",
        "outputId": "7d39b47d-360e-452b-cb6f-199220b18c48"
      },
      "outputs": [
        {
          "output_type": "execute_result",
          "data": {
            "text/plain": [
              "    day  total_reqs  total_hosts   avg_reqs\n",
              "0     1       64714         5191  12.466577\n",
              "1     2       60265         4858  12.405311\n",
              "2     3       89584         7332  12.218221\n",
              "3     4       70452         5523  12.756111\n",
              "4     5       94575         7379  12.816777\n",
              "5     6      100960         7815  12.918746\n",
              "6     7       87233         6471  13.480606\n",
              "7     8       38867         2898  13.411663\n",
              "8     9       35272         2554  13.810493\n",
              "9    10       72860         4460  16.336323\n",
              "10   11       80407         4923  16.332927\n",
              "11   12       92536         5339  17.332085\n",
              "12   13      134203         6946  19.320904\n",
              "13   14       84103         5292  15.892479\n",
              "14   15       45532         3115  14.617014\n",
              "15   16       47854         3013  15.882509\n",
              "16   17       74981         4941  15.175268\n",
              "17   18       64282         4518  14.227977\n",
              "18   19       72738         4913  14.805211\n",
              "19   20       66593         4725  14.093757\n",
              "20   21       64629         4337  14.901775\n",
              "21   22       35267         2575  13.695922\n",
              "22   23       39199         2634  14.881929\n",
              "23   24       64259         4294  14.964835\n",
              "24   25       62699         4373  14.337754\n",
              "25   26       58849         4295  13.701746\n",
              "26   27       61680         4367  14.124113\n",
              "27   28       27121         2173  12.480902"
            ],
            "text/html": [
              "\n",
              "  <div id=\"df-d85eb255-4e2b-47d0-afc4-be7ee251388e\">\n",
              "    <div class=\"colab-df-container\">\n",
              "      <div>\n",
              "<style scoped>\n",
              "    .dataframe tbody tr th:only-of-type {\n",
              "        vertical-align: middle;\n",
              "    }\n",
              "\n",
              "    .dataframe tbody tr th {\n",
              "        vertical-align: top;\n",
              "    }\n",
              "\n",
              "    .dataframe thead th {\n",
              "        text-align: right;\n",
              "    }\n",
              "</style>\n",
              "<table border=\"1\" class=\"dataframe\">\n",
              "  <thead>\n",
              "    <tr style=\"text-align: right;\">\n",
              "      <th></th>\n",
              "      <th>day</th>\n",
              "      <th>total_reqs</th>\n",
              "      <th>total_hosts</th>\n",
              "      <th>avg_reqs</th>\n",
              "    </tr>\n",
              "  </thead>\n",
              "  <tbody>\n",
              "    <tr>\n",
              "      <th>0</th>\n",
              "      <td>1</td>\n",
              "      <td>64714</td>\n",
              "      <td>5191</td>\n",
              "      <td>12.466577</td>\n",
              "    </tr>\n",
              "    <tr>\n",
              "      <th>1</th>\n",
              "      <td>2</td>\n",
              "      <td>60265</td>\n",
              "      <td>4858</td>\n",
              "      <td>12.405311</td>\n",
              "    </tr>\n",
              "    <tr>\n",
              "      <th>2</th>\n",
              "      <td>3</td>\n",
              "      <td>89584</td>\n",
              "      <td>7332</td>\n",
              "      <td>12.218221</td>\n",
              "    </tr>\n",
              "    <tr>\n",
              "      <th>3</th>\n",
              "      <td>4</td>\n",
              "      <td>70452</td>\n",
              "      <td>5523</td>\n",
              "      <td>12.756111</td>\n",
              "    </tr>\n",
              "    <tr>\n",
              "      <th>4</th>\n",
              "      <td>5</td>\n",
              "      <td>94575</td>\n",
              "      <td>7379</td>\n",
              "      <td>12.816777</td>\n",
              "    </tr>\n",
              "    <tr>\n",
              "      <th>5</th>\n",
              "      <td>6</td>\n",
              "      <td>100960</td>\n",
              "      <td>7815</td>\n",
              "      <td>12.918746</td>\n",
              "    </tr>\n",
              "    <tr>\n",
              "      <th>6</th>\n",
              "      <td>7</td>\n",
              "      <td>87233</td>\n",
              "      <td>6471</td>\n",
              "      <td>13.480606</td>\n",
              "    </tr>\n",
              "    <tr>\n",
              "      <th>7</th>\n",
              "      <td>8</td>\n",
              "      <td>38867</td>\n",
              "      <td>2898</td>\n",
              "      <td>13.411663</td>\n",
              "    </tr>\n",
              "    <tr>\n",
              "      <th>8</th>\n",
              "      <td>9</td>\n",
              "      <td>35272</td>\n",
              "      <td>2554</td>\n",
              "      <td>13.810493</td>\n",
              "    </tr>\n",
              "    <tr>\n",
              "      <th>9</th>\n",
              "      <td>10</td>\n",
              "      <td>72860</td>\n",
              "      <td>4460</td>\n",
              "      <td>16.336323</td>\n",
              "    </tr>\n",
              "    <tr>\n",
              "      <th>10</th>\n",
              "      <td>11</td>\n",
              "      <td>80407</td>\n",
              "      <td>4923</td>\n",
              "      <td>16.332927</td>\n",
              "    </tr>\n",
              "    <tr>\n",
              "      <th>11</th>\n",
              "      <td>12</td>\n",
              "      <td>92536</td>\n",
              "      <td>5339</td>\n",
              "      <td>17.332085</td>\n",
              "    </tr>\n",
              "    <tr>\n",
              "      <th>12</th>\n",
              "      <td>13</td>\n",
              "      <td>134203</td>\n",
              "      <td>6946</td>\n",
              "      <td>19.320904</td>\n",
              "    </tr>\n",
              "    <tr>\n",
              "      <th>13</th>\n",
              "      <td>14</td>\n",
              "      <td>84103</td>\n",
              "      <td>5292</td>\n",
              "      <td>15.892479</td>\n",
              "    </tr>\n",
              "    <tr>\n",
              "      <th>14</th>\n",
              "      <td>15</td>\n",
              "      <td>45532</td>\n",
              "      <td>3115</td>\n",
              "      <td>14.617014</td>\n",
              "    </tr>\n",
              "    <tr>\n",
              "      <th>15</th>\n",
              "      <td>16</td>\n",
              "      <td>47854</td>\n",
              "      <td>3013</td>\n",
              "      <td>15.882509</td>\n",
              "    </tr>\n",
              "    <tr>\n",
              "      <th>16</th>\n",
              "      <td>17</td>\n",
              "      <td>74981</td>\n",
              "      <td>4941</td>\n",
              "      <td>15.175268</td>\n",
              "    </tr>\n",
              "    <tr>\n",
              "      <th>17</th>\n",
              "      <td>18</td>\n",
              "      <td>64282</td>\n",
              "      <td>4518</td>\n",
              "      <td>14.227977</td>\n",
              "    </tr>\n",
              "    <tr>\n",
              "      <th>18</th>\n",
              "      <td>19</td>\n",
              "      <td>72738</td>\n",
              "      <td>4913</td>\n",
              "      <td>14.805211</td>\n",
              "    </tr>\n",
              "    <tr>\n",
              "      <th>19</th>\n",
              "      <td>20</td>\n",
              "      <td>66593</td>\n",
              "      <td>4725</td>\n",
              "      <td>14.093757</td>\n",
              "    </tr>\n",
              "    <tr>\n",
              "      <th>20</th>\n",
              "      <td>21</td>\n",
              "      <td>64629</td>\n",
              "      <td>4337</td>\n",
              "      <td>14.901775</td>\n",
              "    </tr>\n",
              "    <tr>\n",
              "      <th>21</th>\n",
              "      <td>22</td>\n",
              "      <td>35267</td>\n",
              "      <td>2575</td>\n",
              "      <td>13.695922</td>\n",
              "    </tr>\n",
              "    <tr>\n",
              "      <th>22</th>\n",
              "      <td>23</td>\n",
              "      <td>39199</td>\n",
              "      <td>2634</td>\n",
              "      <td>14.881929</td>\n",
              "    </tr>\n",
              "    <tr>\n",
              "      <th>23</th>\n",
              "      <td>24</td>\n",
              "      <td>64259</td>\n",
              "      <td>4294</td>\n",
              "      <td>14.964835</td>\n",
              "    </tr>\n",
              "    <tr>\n",
              "      <th>24</th>\n",
              "      <td>25</td>\n",
              "      <td>62699</td>\n",
              "      <td>4373</td>\n",
              "      <td>14.337754</td>\n",
              "    </tr>\n",
              "    <tr>\n",
              "      <th>25</th>\n",
              "      <td>26</td>\n",
              "      <td>58849</td>\n",
              "      <td>4295</td>\n",
              "      <td>13.701746</td>\n",
              "    </tr>\n",
              "    <tr>\n",
              "      <th>26</th>\n",
              "      <td>27</td>\n",
              "      <td>61680</td>\n",
              "      <td>4367</td>\n",
              "      <td>14.124113</td>\n",
              "    </tr>\n",
              "    <tr>\n",
              "      <th>27</th>\n",
              "      <td>28</td>\n",
              "      <td>27121</td>\n",
              "      <td>2173</td>\n",
              "      <td>12.480902</td>\n",
              "    </tr>\n",
              "  </tbody>\n",
              "</table>\n",
              "</div>\n",
              "      <button class=\"colab-df-convert\" onclick=\"convertToInteractive('df-d85eb255-4e2b-47d0-afc4-be7ee251388e')\"\n",
              "              title=\"Convert this dataframe to an interactive table.\"\n",
              "              style=\"display:none;\">\n",
              "        \n",
              "  <svg xmlns=\"http://www.w3.org/2000/svg\" height=\"24px\"viewBox=\"0 0 24 24\"\n",
              "       width=\"24px\">\n",
              "    <path d=\"M0 0h24v24H0V0z\" fill=\"none\"/>\n",
              "    <path d=\"M18.56 5.44l.94 2.06.94-2.06 2.06-.94-2.06-.94-.94-2.06-.94 2.06-2.06.94zm-11 1L8.5 8.5l.94-2.06 2.06-.94-2.06-.94L8.5 2.5l-.94 2.06-2.06.94zm10 10l.94 2.06.94-2.06 2.06-.94-2.06-.94-.94-2.06-.94 2.06-2.06.94z\"/><path d=\"M17.41 7.96l-1.37-1.37c-.4-.4-.92-.59-1.43-.59-.52 0-1.04.2-1.43.59L10.3 9.45l-7.72 7.72c-.78.78-.78 2.05 0 2.83L4 21.41c.39.39.9.59 1.41.59.51 0 1.02-.2 1.41-.59l7.78-7.78 2.81-2.81c.8-.78.8-2.07 0-2.86zM5.41 20L4 18.59l7.72-7.72 1.47 1.35L5.41 20z\"/>\n",
              "  </svg>\n",
              "      </button>\n",
              "      \n",
              "  <style>\n",
              "    .colab-df-container {\n",
              "      display:flex;\n",
              "      flex-wrap:wrap;\n",
              "      gap: 12px;\n",
              "    }\n",
              "\n",
              "    .colab-df-convert {\n",
              "      background-color: #E8F0FE;\n",
              "      border: none;\n",
              "      border-radius: 50%;\n",
              "      cursor: pointer;\n",
              "      display: none;\n",
              "      fill: #1967D2;\n",
              "      height: 32px;\n",
              "      padding: 0 0 0 0;\n",
              "      width: 32px;\n",
              "    }\n",
              "\n",
              "    .colab-df-convert:hover {\n",
              "      background-color: #E2EBFA;\n",
              "      box-shadow: 0px 1px 2px rgba(60, 64, 67, 0.3), 0px 1px 3px 1px rgba(60, 64, 67, 0.15);\n",
              "      fill: #174EA6;\n",
              "    }\n",
              "\n",
              "    [theme=dark] .colab-df-convert {\n",
              "      background-color: #3B4455;\n",
              "      fill: #D2E3FC;\n",
              "    }\n",
              "\n",
              "    [theme=dark] .colab-df-convert:hover {\n",
              "      background-color: #434B5C;\n",
              "      box-shadow: 0px 1px 3px 1px rgba(0, 0, 0, 0.15);\n",
              "      filter: drop-shadow(0px 1px 2px rgba(0, 0, 0, 0.3));\n",
              "      fill: #FFFFFF;\n",
              "    }\n",
              "  </style>\n",
              "\n",
              "      <script>\n",
              "        const buttonEl =\n",
              "          document.querySelector('#df-d85eb255-4e2b-47d0-afc4-be7ee251388e button.colab-df-convert');\n",
              "        buttonEl.style.display =\n",
              "          google.colab.kernel.accessAllowed ? 'block' : 'none';\n",
              "\n",
              "        async function convertToInteractive(key) {\n",
              "          const element = document.querySelector('#df-d85eb255-4e2b-47d0-afc4-be7ee251388e');\n",
              "          const dataTable =\n",
              "            await google.colab.kernel.invokeFunction('convertToInteractive',\n",
              "                                                     [key], {});\n",
              "          if (!dataTable) return;\n",
              "\n",
              "          const docLinkHtml = 'Like what you see? Visit the ' +\n",
              "            '<a target=\"_blank\" href=https://colab.research.google.com/notebooks/data_table.ipynb>data table notebook</a>'\n",
              "            + ' to learn more about interactive tables.';\n",
              "          element.innerHTML = '';\n",
              "          dataTable['output_type'] = 'display_data';\n",
              "          await google.colab.output.renderOutput(dataTable, element);\n",
              "          const docLink = document.createElement('div');\n",
              "          docLink.innerHTML = docLinkHtml;\n",
              "          element.appendChild(docLink);\n",
              "        }\n",
              "      </script>\n",
              "    </div>\n",
              "  </div>\n",
              "  "
            ]
          },
          "metadata": {},
          "execution_count": 64
        }
      ],
      "source": [
        "daily_hosts_df = (host_day_distinct_df\n",
        "                     .groupBy('day')\n",
        "                     .count()\n",
        "                     .select(col(\"day\"), \n",
        "                                      col(\"count\").alias(\"total_hosts\")))\n",
        "\n",
        "total_daily_reqests_df = (logs_df\n",
        "                              .select(F.dayofmonth(\"time\")\n",
        "                                          .alias(\"day\"))\n",
        "                              .groupBy(\"day\")\n",
        "                              .count()\n",
        "                              .select(col(\"day\"), \n",
        "                                      col(\"count\").alias(\"total_reqs\")))\n",
        "\n",
        "avg_daily_reqests_per_host_df = total_daily_reqests_df.join(daily_hosts_df, 'day')\n",
        "avg_daily_reqests_per_host_df = (avg_daily_reqests_per_host_df\n",
        "                                    .withColumn('avg_reqs', col('total_reqs') / col('total_hosts'))\n",
        "                                    .sort(\"day\"))\n",
        "avg_daily_reqests_per_host_df = avg_daily_reqests_per_host_df.toPandas()\n",
        "avg_daily_reqests_per_host_df"
      ]
    },
    {
      "cell_type": "code",
      "execution_count": null,
      "metadata": {
        "colab": {
          "base_uri": "https://localhost:8080/",
          "height": 506
        },
        "id": "mWYJweo0fTUs",
        "outputId": "f7f99828-8a63-4be1-cd21-c0a56e7541dd"
      },
      "outputs": [
        {
          "output_type": "display_data",
          "data": {
            "text/plain": [
              "<Figure size 750x500 with 1 Axes>"
            ],
            "image/png": "[encoded data removed]"
          },
          "metadata": {}
        }
      ],
      "source": [
        "c = sns.catplot(x='day', y='avg_reqs', \n",
        "                data=avg_daily_reqests_per_host_df, \n",
        "                kind='point', height=5, aspect=1.5)"
      ]
    },
    {
      "cell_type": "markdown",
      "metadata": {
        "id": "z5WfC6eYfTUs"
      },
      "source": [
        "## Counting 404 Response Codes\n",
        "\n",
        "Create a DataFrame containing only log records with a 404 status code (Not Found). \n",
        "\n",
        "We make sure to `cache()` the `not_found_df` dataframe as we will use it in the rest of the examples here.\n",
        "\n",
        "__How many 404 records are in the log?__"
      ]
    },
    {
      "cell_type": "code",
      "execution_count": null,
      "metadata": {
        "colab": {
          "base_uri": "https://localhost:8080/"
        },
        "id": "azYOwCrnfTUt",
        "outputId": "6877940b-5198-4a13-8c26-45c15789ee3f"
      },
      "outputs": [
        {
          "output_type": "stream",
          "name": "stdout",
          "text": [
            "Total 404 responses: 10843\n"
          ]
        }
      ],
      "source": [
        "not_found_df = logs_df.filter(logs_df[\"status\"] == 404).cache()\n",
        "print(('Total 404 responses: {}').format(not_found_df.count()))"
      ]
    },
    {
      "cell_type": "markdown",
      "metadata": {
        "id": "LkJe3nBUfTUt"
      },
      "source": [
        "## Listing the Top Twenty 404 Response Code Endpoints\n",
        "\n",
        "Using the DataFrame containing only log records with a 404 response code that we cached earlier, we will now print out a list of the top twenty endpoints that generate the most 404 errors.\n",
        "\n",
        "*Remember, top endpoints should be in sorted order*"
      ]
    },
    {
      "cell_type": "code",
      "execution_count": null,
      "metadata": {
        "colab": {
          "base_uri": "https://localhost:8080/"
        },
        "id": "pT2H5JuRfTUt",
        "outputId": "407026bb-2227-42ea-9d15-0154b7417308"
      },
      "outputs": [
        {
          "output_type": "stream",
          "name": "stdout",
          "text": [
            "+-----------------------------------------------------------------+-----+\n",
            "|endpoint                                                         |count|\n",
            "+-----------------------------------------------------------------+-----+\n",
            "|/pub/winvn/readme.txt                                            |667  |\n",
            "|/pub/winvn/release.txt                                           |547  |\n",
            "|/history/apollo/apollo-13.html                                   |286  |\n",
            "|/shuttle/resources/orbiters/atlantis.gif                         |232  |\n",
            "|/history/apollo/a-001/a-001-patch-small.gif                      |230  |\n",
            "|/://spacelink.msfc.nasa.gov                                      |215  |\n",
            "|/history/apollo/pad-abort-test-1/pad-abort-test-1-patch-small.gif|215  |\n",
            "|/images/crawlerway-logo.gif                                      |214  |\n",
            "|/history/apollo/sa-1/sa-1-patch-small.gif                        |183  |\n",
            "|/shuttle/resources/orbiters/discovery.gif                        |180  |\n",
            "|/shuttle/missions/sts-68/ksc-upclose.gif                         |175  |\n",
            "|/shuttle/missions/sts-71/images/KSC-95EC-0916.txt                |168  |\n",
            "|/elv/DELTA/uncons.htm                                            |163  |\n",
            "|/history/apollo/publications/sp-350/sp-350.txt~                  |140  |\n",
            "|/shuttle/missions/technology/sts-newsref/stsref-toc.html         |107  |\n",
            "|/shuttle/resources/orbiters/challenger.gif                       |92   |\n",
            "|/procurement/procurement.htm                                     |86   |\n",
            "|/history/apollo-13/apollo-13.html                                |73   |\n",
            "|/history/apollo/pad-abort-test-2/pad-abort-test-2-patch-small.gif|71   |\n",
            "|/shuttle/countdown/video/livevideo.jpeg                          |68   |\n",
            "+-----------------------------------------------------------------+-----+\n",
            "\n"
          ]
        }
      ],
      "source": [
        "endpoints_404_count_df = (not_found_df\n",
        "                          .groupBy(\"endpoint\")\n",
        "                          .count()\n",
        "                          .sort(\"count\", ascending=False)\n",
        "                          .limit(20))\n",
        "\n",
        "endpoints_404_count_df.show(truncate=False)"
      ]
    },
    {
      "cell_type": "markdown",
      "metadata": {
        "id": "6c9lxCVFfTUt"
      },
      "source": [
        "## Listing the Top Twenty 404 Response Code Hosts\n",
        "\n",
        "Using the DataFrame containing only log records with a 404 response code that we cached earlier, we will now print out a list of the top twenty hosts that generate the most 404 errors.\n",
        "\n",
        "*Remember, top hosts should be in sorted order*"
      ]
    },
    {
      "cell_type": "code",
      "execution_count": null,
      "metadata": {
        "colab": {
          "base_uri": "https://localhost:8080/"
        },
        "id": "ajj1iGNUfTUu",
        "outputId": "14952663-401a-4be6-fbee-ff467621bf24"
      },
      "outputs": [
        {
          "output_type": "stream",
          "name": "stdout",
          "text": [
            "+---------------------------+-----+\n",
            "|host                       |count|\n",
            "+---------------------------+-----+\n",
            "|hoohoo.ncsa.uiuc.edu       |251  |\n",
            "|jbiagioni.npt.nuwc.navy.mil|131  |\n",
            "|piweba3y.prodigy.com       |110  |\n",
            "|piweba1y.prodigy.com       |92   |\n",
            "|                           |84   |\n",
            "|phaelon.ksc.nasa.gov       |64   |\n",
            "|www-d4.proxy.aol.com       |61   |\n",
            "|monarch.eng.buffalo.edu    |56   |\n",
            "|piweba4y.prodigy.com       |56   |\n",
            "|alyssa.prodigy.com         |54   |\n",
            "|www-a2.proxy.aol.com       |52   |\n",
            "|www-b4.proxy.aol.com       |48   |\n",
            "|www-b6.proxy.aol.com       |44   |\n",
            "|www-b3.proxy.aol.com       |43   |\n",
            "|tearnest2.stpaul.ncr.com   |42   |\n",
            "|www-d1.proxy.aol.com       |41   |\n",
            "|www-b2.proxy.aol.com       |41   |\n",
            "|www-d3.proxy.aol.com       |38   |\n",
            "|piweba2y.prodigy.com       |38   |\n",
            "|www-a1.proxy.aol.com       |38   |\n",
            "+---------------------------+-----+\n",
            "\n"
          ]
        }
      ],
      "source": [
        "hosts_404_count_df = (not_found_df\n",
        "                          .groupBy(\"host\")\n",
        "                          .count()\n",
        "                          .sort(\"count\", ascending=False)\n",
        "                          .limit(20))\n",
        "\n",
        "hosts_404_count_df.show(truncate=False)"
      ]
    },
    {
      "cell_type": "markdown",
      "metadata": {
        "id": "PGpqsoOifTUu"
      },
      "source": [
        "## Visualizing 404 Errors per Day\n",
        "\n",
        "Let's explore our 404 records temporally (by time) now. Similar to the example showing the number of unique daily hosts, we will break down the 404 requests by day and get the daily counts sorted by day in `errors_by_date_sorted_df`."
      ]
    },
    {
      "cell_type": "code",
      "execution_count": null,
      "metadata": {
        "colab": {
          "base_uri": "https://localhost:8080/",
          "height": 927
        },
        "id": "Ms-AgbpZfTUu",
        "outputId": "65e34b6b-4760-4f12-f15b-69bcdfb3c2be"
      },
      "outputs": [
        {
          "output_type": "execute_result",
          "data": {
            "text/plain": [
              "    day  count\n",
              "0     1    316\n",
              "1     2    291\n",
              "2     3    474\n",
              "3     4    359\n",
              "4     5    497\n",
              "5     6    640\n",
              "6     7    570\n",
              "7     8    300\n",
              "8     9    348\n",
              "9    10    398\n",
              "10   11    471\n",
              "11   12    471\n",
              "12   13    532\n",
              "13   14    413\n",
              "14   15    254\n",
              "15   16    257\n",
              "16   17    406\n",
              "17   18    465\n",
              "18   19    639\n",
              "19   20    428\n",
              "20   21    334\n",
              "21   22    192\n",
              "22   23    233\n",
              "23   24    328\n",
              "24   25    461\n",
              "25   26    336\n",
              "26   27    336\n",
              "27   28     94"
            ],
            "text/html": [
              "\n",
              "  <div id=\"df-2a8b1591-36a8-4672-a895-f3bc40bb61fa\">\n",
              "    <div class=\"colab-df-container\">\n",
              "      <div>\n",
              "<style scoped>\n",
              "    .dataframe tbody tr th:only-of-type {\n",
              "        vertical-align: middle;\n",
              "    }\n",
              "\n",
              "    .dataframe tbody tr th {\n",
              "        vertical-align: top;\n",
              "    }\n",
              "\n",
              "    .dataframe thead th {\n",
              "        text-align: right;\n",
              "    }\n",
              "</style>\n",
              "<table border=\"1\" class=\"dataframe\">\n",
              "  <thead>\n",
              "    <tr style=\"text-align: right;\">\n",
              "      <th></th>\n",
              "      <th>day</th>\n",
              "      <th>count</th>\n",
              "    </tr>\n",
              "  </thead>\n",
              "  <tbody>\n",
              "    <tr>\n",
              "      <th>0</th>\n",
              "      <td>1</td>\n",
              "      <td>316</td>\n",
              "    </tr>\n",
              "    <tr>\n",
              "      <th>1</th>\n",
              "      <td>2</td>\n",
              "      <td>291</td>\n",
              "    </tr>\n",
              "    <tr>\n",
              "      <th>2</th>\n",
              "      <td>3</td>\n",
              "      <td>474</td>\n",
              "    </tr>\n",
              "    <tr>\n",
              "      <th>3</th>\n",
              "      <td>4</td>\n",
              "      <td>359</td>\n",
              "    </tr>\n",
              "    <tr>\n",
              "      <th>4</th>\n",
              "      <td>5</td>\n",
              "      <td>497</td>\n",
              "    </tr>\n",
              "    <tr>\n",
              "      <th>5</th>\n",
              "      <td>6</td>\n",
              "      <td>640</td>\n",
              "    </tr>\n",
              "    <tr>\n",
              "      <th>6</th>\n",
              "      <td>7</td>\n",
              "      <td>570</td>\n",
              "    </tr>\n",
              "    <tr>\n",
              "      <th>7</th>\n",
              "      <td>8</td>\n",
              "      <td>300</td>\n",
              "    </tr>\n",
              "    <tr>\n",
              "      <th>8</th>\n",
              "      <td>9</td>\n",
              "      <td>348</td>\n",
              "    </tr>\n",
              "    <tr>\n",
              "      <th>9</th>\n",
              "      <td>10</td>\n",
              "      <td>398</td>\n",
              "    </tr>\n",
              "    <tr>\n",
              "      <th>10</th>\n",
              "      <td>11</td>\n",
              "      <td>471</td>\n",
              "    </tr>\n",
              "    <tr>\n",
              "      <th>11</th>\n",
              "      <td>12</td>\n",
              "      <td>471</td>\n",
              "    </tr>\n",
              "    <tr>\n",
              "      <th>12</th>\n",
              "      <td>13</td>\n",
              "      <td>532</td>\n",
              "    </tr>\n",
              "    <tr>\n",
              "      <th>13</th>\n",
              "      <td>14</td>\n",
              "      <td>413</td>\n",
              "    </tr>\n",
              "    <tr>\n",
              "      <th>14</th>\n",
              "      <td>15</td>\n",
              "      <td>254</td>\n",
              "    </tr>\n",
              "    <tr>\n",
              "      <th>15</th>\n",
              "      <td>16</td>\n",
              "      <td>257</td>\n",
              "    </tr>\n",
              "    <tr>\n",
              "      <th>16</th>\n",
              "      <td>17</td>\n",
              "      <td>406</td>\n",
              "    </tr>\n",
              "    <tr>\n",
              "      <th>17</th>\n",
              "      <td>18</td>\n",
              "      <td>465</td>\n",
              "    </tr>\n",
              "    <tr>\n",
              "      <th>18</th>\n",
              "      <td>19</td>\n",
              "      <td>639</td>\n",
              "    </tr>\n",
              "    <tr>\n",
              "      <th>19</th>\n",
              "      <td>20</td>\n",
              "      <td>428</td>\n",
              "    </tr>\n",
              "    <tr>\n",
              "      <th>20</th>\n",
              "      <td>21</td>\n",
              "      <td>334</td>\n",
              "    </tr>\n",
              "    <tr>\n",
              "      <th>21</th>\n",
              "      <td>22</td>\n",
              "      <td>192</td>\n",
              "    </tr>\n",
              "    <tr>\n",
              "      <th>22</th>\n",
              "      <td>23</td>\n",
              "      <td>233</td>\n",
              "    </tr>\n",
              "    <tr>\n",
              "      <th>23</th>\n",
              "      <td>24</td>\n",
              "      <td>328</td>\n",
              "    </tr>\n",
              "    <tr>\n",
              "      <th>24</th>\n",
              "      <td>25</td>\n",
              "      <td>461</td>\n",
              "    </tr>\n",
              "    <tr>\n",
              "      <th>25</th>\n",
              "      <td>26</td>\n",
              "      <td>336</td>\n",
              "    </tr>\n",
              "    <tr>\n",
              "      <th>26</th>\n",
              "      <td>27</td>\n",
              "      <td>336</td>\n",
              "    </tr>\n",
              "    <tr>\n",
              "      <th>27</th>\n",
              "      <td>28</td>\n",
              "      <td>94</td>\n",
              "    </tr>\n",
              "  </tbody>\n",
              "</table>\n",
              "</div>\n",
              "      <button class=\"colab-df-convert\" onclick=\"convertToInteractive('df-2a8b1591-36a8-4672-a895-f3bc40bb61fa')\"\n",
              "              title=\"Convert this dataframe to an interactive table.\"\n",
              "              style=\"display:none;\">\n",
              "        \n",
              "  <svg xmlns=\"http://www.w3.org/2000/svg\" height=\"24px\"viewBox=\"0 0 24 24\"\n",
              "       width=\"24px\">\n",
              "    <path d=\"M0 0h24v24H0V0z\" fill=\"none\"/>\n",
              "    <path d=\"M18.56 5.44l.94 2.06.94-2.06 2.06-.94-2.06-.94-.94-2.06-.94 2.06-2.06.94zm-11 1L8.5 8.5l.94-2.06 2.06-.94-2.06-.94L8.5 2.5l-.94 2.06-2.06.94zm10 10l.94 2.06.94-2.06 2.06-.94-2.06-.94-.94-2.06-.94 2.06-2.06.94z\"/><path d=\"M17.41 7.96l-1.37-1.37c-.4-.4-.92-.59-1.43-.59-.52 0-1.04.2-1.43.59L10.3 9.45l-7.72 7.72c-.78.78-.78 2.05 0 2.83L4 21.41c.39.39.9.59 1.41.59.51 0 1.02-.2 1.41-.59l7.78-7.78 2.81-2.81c.8-.78.8-2.07 0-2.86zM5.41 20L4 18.59l7.72-7.72 1.47 1.35L5.41 20z\"/>\n",
              "  </svg>\n",
              "      </button>\n",
              "      \n",
              "  <style>\n",
              "    .colab-df-container {\n",
              "      display:flex;\n",
              "      flex-wrap:wrap;\n",
              "      gap: 12px;\n",
              "    }\n",
              "\n",
              "    .colab-df-convert {\n",
              "      background-color: #E8F0FE;\n",
              "      border: none;\n",
              "      border-radius: 50%;\n",
              "      cursor: pointer;\n",
              "      display: none;\n",
              "      fill: #1967D2;\n",
              "      height: 32px;\n",
              "      padding: 0 0 0 0;\n",
              "      width: 32px;\n",
              "    }\n",
              "\n",
              "    .colab-df-convert:hover {\n",
              "      background-color: #E2EBFA;\n",
              "      box-shadow: 0px 1px 2px rgba(60, 64, 67, 0.3), 0px 1px 3px 1px rgba(60, 64, 67, 0.15);\n",
              "      fill: #174EA6;\n",
              "    }\n",
              "\n",
              "    [theme=dark] .colab-df-convert {\n",
              "      background-color: #3B4455;\n",
              "      fill: #D2E3FC;\n",
              "    }\n",
              "\n",
              "    [theme=dark] .colab-df-convert:hover {\n",
              "      background-color: #434B5C;\n",
              "      box-shadow: 0px 1px 3px 1px rgba(0, 0, 0, 0.15);\n",
              "      filter: drop-shadow(0px 1px 2px rgba(0, 0, 0, 0.3));\n",
              "      fill: #FFFFFF;\n",
              "    }\n",
              "  </style>\n",
              "\n",
              "      <script>\n",
              "        const buttonEl =\n",
              "          document.querySelector('#df-2a8b1591-36a8-4672-a895-f3bc40bb61fa button.colab-df-convert');\n",
              "        buttonEl.style.display =\n",
              "          google.colab.kernel.accessAllowed ? 'block' : 'none';\n",
              "\n",
              "        async function convertToInteractive(key) {\n",
              "          const element = document.querySelector('#df-2a8b1591-36a8-4672-a895-f3bc40bb61fa');\n",
              "          const dataTable =\n",
              "            await google.colab.kernel.invokeFunction('convertToInteractive',\n",
              "                                                     [key], {});\n",
              "          if (!dataTable) return;\n",
              "\n",
              "          const docLinkHtml = 'Like what you see? Visit the ' +\n",
              "            '<a target=\"_blank\" href=https://colab.research.google.com/notebooks/data_table.ipynb>data table notebook</a>'\n",
              "            + ' to learn more about interactive tables.';\n",
              "          element.innerHTML = '';\n",
              "          dataTable['output_type'] = 'display_data';\n",
              "          await google.colab.output.renderOutput(dataTable, element);\n",
              "          const docLink = document.createElement('div');\n",
              "          docLink.innerHTML = docLinkHtml;\n",
              "          element.appendChild(docLink);\n",
              "        }\n",
              "      </script>\n",
              "    </div>\n",
              "  </div>\n",
              "  "
            ]
          },
          "metadata": {},
          "execution_count": 69
        }
      ],
      "source": [
        "errors_by_date_sorted_df = (not_found_df\n",
        "                                .groupBy(F.dayofmonth('time').alias('day'))\n",
        "                                .count()\n",
        "                                .sort(\"day\"))\n",
        "\n",
        "errors_by_date_sorted_pd_df = errors_by_date_sorted_df.toPandas()\n",
        "errors_by_date_sorted_pd_df"
      ]
    },
    {
      "cell_type": "code",
      "execution_count": null,
      "metadata": {
        "colab": {
          "base_uri": "https://localhost:8080/",
          "height": 506
        },
        "id": "N0RaIH0ZfTUu",
        "outputId": "f895829f-c6f5-4e5d-89d2-59f6bb9a5342"
      },
      "outputs": [
        {
          "output_type": "display_data",
          "data": {
            "text/plain": [
              "<Figure size 750x500 with 1 Axes>"
            ],
            "image/png": "[encoded data removed]"
          },
          "metadata": {}
        }
      ],
      "source": [
        "c = sns.catplot(x='day', y='count', \n",
        "                data=errors_by_date_sorted_pd_df, \n",
        "                kind='point', height=5, aspect=1.5)"
      ]
    },
    {
      "cell_type": "markdown",
      "metadata": {
        "id": "7xnjNiILfTUu"
      },
      "source": [
        "## Top Three Days for 404 Errors\n",
        "\n",
        "What are the top three days of the month having the most 404 errors, we can leverage our previously created __`errors_by_date_sorted_df`__ for this. "
      ]
    },
    {
      "cell_type": "code",
      "execution_count": null,
      "metadata": {
        "colab": {
          "base_uri": "https://localhost:8080/"
        },
        "id": "Wq5YsYxCfTUv",
        "outputId": "40b9b82b-2b08-42b1-9736-e15aac5962b7"
      },
      "outputs": [
        {
          "output_type": "stream",
          "name": "stdout",
          "text": [
            "+---+-----+\n",
            "|day|count|\n",
            "+---+-----+\n",
            "|  6|  640|\n",
            "| 19|  639|\n",
            "|  7|  570|\n",
            "+---+-----+\n",
            "only showing top 3 rows\n",
            "\n"
          ]
        }
      ],
      "source": [
        "(errors_by_date_sorted_df\n",
        "    .sort(\"count\", ascending=False)\n",
        "    .show(3))"
      ]
    },
    {
      "cell_type": "markdown",
      "metadata": {
        "id": "GDkklW7-fTUv"
      },
      "source": [
        "## Visualizing Hourly 404 Errors\n",
        "\n",
        "Using the DataFrame `not_found_df` we cached earlier, we will now group and sort by hour of the day in increasing order, to create a DataFrame containing the total number of 404 responses for HTTP requests for each hour of the day (midnight starts at 0)"
      ]
    },
    {
      "cell_type": "code",
      "execution_count": null,
      "metadata": {
        "collapsed": true,
        "id": "lC-mAQ0WfTUv"
      },
      "outputs": [],
      "source": [
        "hourly_avg_errors_sorted_df = (not_found_df\n",
        "                                   .groupBy(F.hour('time')\n",
        "                                             .alias('hour'))\n",
        "                                   .count()\n",
        "                                   .sort('hour'))\n",
        "hourly_avg_errors_sorted_pd_df = hourly_avg_errors_sorted_df.toPandas()"
      ]
    },
    {
      "cell_type": "code",
      "execution_count": null,
      "metadata": {
        "colab": {
          "base_uri": "https://localhost:8080/",
          "height": 506
        },
        "id": "jm_UybWYfTUv",
        "outputId": "bb8427c3-516b-4862-986f-0a309af1911f"
      },
      "outputs": [
        {
          "output_type": "display_data",
          "data": {
            "text/plain": [
              "<Figure size 750x500 with 1 Axes>"
            ],
            "image/png": "[encoded data removed]"
          },
          "metadata": {}
        }
      ],
      "source": [
        "c = sns.catplot(x='hour', y='count', \n",
        "                data=hourly_avg_errors_sorted_pd_df, \n",
        "                kind='bar', height=5, aspect=1.5)"
      ]
    },
    {
      "cell_type": "markdown",
      "metadata": {
        "id": "KAUl7kbhfTUv"
      },
      "source": [
        "### 3.1 Generate the output presenting the endpoint that received the highest number of invocations on a specific day of the week, along with the corresponding count of invocations. (Summarize this for the entire dataset)\n",
        "\n",
        "\n",
        "\n",
        "\n",
        "\n"
      ]
    },
    {
      "cell_type": "code",
      "source": [
        "from pyspark.sql.functions import dayofweek, col, count, desc, first, max, lit, expr, when\n",
        "from pyspark.sql.types import StringType\n",
        "# Convert the 'timestamp' column to a timestamp type\n",
        "logs_df = logs_df.withColumn('time', col('time').cast('timestamp'))\n",
        "\n",
        "# Extract the day of the week from the timestamp\n",
        "logs_df = logs_df.withColumn('day_of_week', dayofweek(col('time')))"
      ],
      "metadata": {
        "id": "6nudgUmu3B1G"
      },
      "execution_count": null,
      "outputs": []
    },
    {
      "cell_type": "code",
      "execution_count": null,
      "metadata": {
        "colab": {
          "base_uri": "https://localhost:8080/"
        },
        "id": "fu_nnjuXfTUv",
        "outputId": "cdad145f-0caf-486b-c320-b31ab03a9474"
      },
      "outputs": [
        {
          "output_type": "stream",
          "name": "stdout",
          "text": [
            "+-----------+-------------------------------------------+-----+\n",
            "|day_of_week|endpoint                                   |count|\n",
            "+-----------+-------------------------------------------+-----+\n",
            "|Thursday   |/shuttle/missions/sts-71/images/images.html|2503 |\n",
            "+-----------+-------------------------------------------+-----+\n",
            "\n"
          ]
        }
      ],
      "source": [
        "# Group the data by day of the week and endpoint, and count the invocations\n",
        "grouped = logs_df.groupBy('day_of_week', 'endpoint').agg(count('*').alias('count'))\n",
        "\n",
        "# Find the endpoint with the highest count for each day of the week\n",
        "max_invocations = grouped.groupBy('day_of_week').agg(\n",
        "    first('endpoint').alias('endpoint'),\n",
        "    first('count').alias('count'),\n",
        "    max('count').alias('max_count')\n",
        ").orderBy(col('max_count').desc()).limit(1)\n",
        "\n",
        "# Rename the columns and convert day_of_week to the actual day name\n",
        "max_invocations = max_invocations.withColumn('day_of_week', expr(\"CASE day_of_week WHEN 1 THEN 'Sunday' WHEN 2 THEN 'Monday' WHEN 3 THEN 'Tuesday' WHEN 4 THEN 'Wednesday' WHEN 5 THEN 'Thursday' WHEN 6 THEN 'Friday' WHEN 7 THEN 'Saturday' END\"))\n",
        "\n",
        "# Define the desired output column names\n",
        "columns = [\"day_of_week\", \"endpoint\", \"count\"]\n",
        "\n",
        "\n",
        "# Display the output\n",
        "max_invocations.select(columns).show(truncate=False)"
      ]
    },
    {
      "cell_type": "markdown",
      "source": [
        "# **3.1 Top 10 years in which there are least 404 status codes generated along with its count.**"
      ],
      "metadata": {
        "id": "MnZqAoxj7BJZ"
      }
    },
    {
      "cell_type": "code",
      "source": [
        "from pyspark.sql.functions import year, col, dense_rank\n",
        "from pyspark.sql.window import Window\n",
        "\n",
        "\n",
        "# Filter the DataFrame to include only 404 status codes\n",
        "filtered_logs = logs_df.filter(col('status') == 404)\n",
        "\n",
        "# Extract the year from the timestamp\n",
        "filtered_logs = filtered_logs.withColumn('year', year(col('time')))\n",
        "\n",
        "# Group the data by year and count the occurrences of 404 status codes\n",
        "grouped_counts = filtered_logs.groupBy('year').count()\n",
        "\n",
        "# Rank the years based on the count of 404 status codes in ascending order\n",
        "window_spec = Window.orderBy(col('count').asc())\n",
        "ranked_counts = grouped_counts.withColumn('rank', dense_rank().over(window_spec))\n",
        "\n",
        "# Filter the top 10 years with the least count of 404 status codes\n",
        "top_10_years = ranked_counts.filter(col('rank') <= 10).orderBy(col('count').asc())\n",
        "\n",
        "# Display the output\n",
        "top_10_years.show(truncate=False)"
      ],
      "metadata": {
        "colab": {
          "base_uri": "https://localhost:8080/"
        },
        "id": "G1N3pG4v7Prm",
        "outputId": "8902106b-5b21-4b9e-91b5-5411c8144a86"
      },
      "execution_count": null,
      "outputs": [
        {
          "output_type": "stream",
          "name": "stdout",
          "text": [
            "+----+-----+----+\n",
            "|year|count|rank|\n",
            "+----+-----+----+\n",
            "|1995|10843|1   |\n",
            "+----+-----+----+\n",
            "\n"
          ]
        }
      ]
    }
  ],
  "metadata": {
    "kernelspec": {
      "display_name": "Python 3",
      "language": "python",
      "name": "python3"
    },
    "language_info": {
      "codemirror_mode": {
        "name": "ipython",
        "version": 3
      },
      "file_extension": ".py",
      "mimetype": "text/x-python",
      "name": "python",
      "nbconvert_exporter": "python",
      "pygments_lexer": "ipython3",
      "version": "3.6.5"
    },
    "colab": {
      "provenance": []
    }
  },
  "nbformat": 4,
  "nbformat_minor": 0
}